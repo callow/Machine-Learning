{
 "cells": [
  {
   "cell_type": "code",
   "execution_count": 11,
   "metadata": {
    "collapsed": true
   },
   "outputs": [],
   "source": [
    "# 特征数太少 不合适用tenorFlow\n",
    "#http://scikit-learn.org/stable/modules/linear_model.html\n",
    "#\n",
    "import pandas\n",
    "df = pandas.read_csv('writers.csv')"
   ]
  },
  {
   "cell_type": "code",
   "execution_count": 12,
   "metadata": {
    "collapsed": true
   },
   "outputs": [],
   "source": [
    "from sklearn.linear_model import LinearRegression\n",
    "from sklearn.metrics import mean_squared_error\n",
    "from sklearn.linear_model import Ridge\n",
    "from sklearn.linear_model import Lasso"
   ]
  },
  {
   "cell_type": "code",
   "execution_count": 6,
   "metadata": {
    "collapsed": false
   },
   "outputs": [
    {
     "data": {
      "text/html": [
       "<div>\n",
       "<table border=\"1\" class=\"dataframe\">\n",
       "  <thead>\n",
       "    <tr style=\"text-align: right;\">\n",
       "      <th></th>\n",
       "      <th>Country risk</th>\n",
       "      <th>Beneficiary</th>\n",
       "      <th>Issuing bank</th>\n",
       "      <th>Risk grade</th>\n",
       "      <th>Requesting office</th>\n",
       "      <th>Tenor</th>\n",
       "      <th>Request risk type</th>\n",
       "      <th>Risk</th>\n",
       "      <th>Charging fee</th>\n",
       "      <th>Limit availibility</th>\n",
       "    </tr>\n",
       "  </thead>\n",
       "  <tbody>\n",
       "    <tr>\n",
       "      <th>0</th>\n",
       "      <td>1</td>\n",
       "      <td>0</td>\n",
       "      <td>7</td>\n",
       "      <td>2</td>\n",
       "      <td>8</td>\n",
       "      <td>0.172072</td>\n",
       "      <td>2</td>\n",
       "      <td>1</td>\n",
       "      <td>0.04</td>\n",
       "      <td>0.02</td>\n",
       "    </tr>\n",
       "    <tr>\n",
       "      <th>1</th>\n",
       "      <td>1</td>\n",
       "      <td>0</td>\n",
       "      <td>11</td>\n",
       "      <td>6</td>\n",
       "      <td>1</td>\n",
       "      <td>0.311427</td>\n",
       "      <td>2</td>\n",
       "      <td>4</td>\n",
       "      <td>0.72</td>\n",
       "      <td>0.36</td>\n",
       "    </tr>\n",
       "    <tr>\n",
       "      <th>2</th>\n",
       "      <td>1</td>\n",
       "      <td>0</td>\n",
       "      <td>1</td>\n",
       "      <td>6</td>\n",
       "      <td>5</td>\n",
       "      <td>0.922183</td>\n",
       "      <td>1</td>\n",
       "      <td>1</td>\n",
       "      <td>0.06</td>\n",
       "      <td>0.03</td>\n",
       "    </tr>\n",
       "    <tr>\n",
       "      <th>3</th>\n",
       "      <td>5</td>\n",
       "      <td>0</td>\n",
       "      <td>4</td>\n",
       "      <td>5</td>\n",
       "      <td>6</td>\n",
       "      <td>0.131014</td>\n",
       "      <td>2</td>\n",
       "      <td>5</td>\n",
       "      <td>1.00</td>\n",
       "      <td>0.50</td>\n",
       "    </tr>\n",
       "    <tr>\n",
       "      <th>4</th>\n",
       "      <td>3</td>\n",
       "      <td>0</td>\n",
       "      <td>4</td>\n",
       "      <td>5</td>\n",
       "      <td>1</td>\n",
       "      <td>0.140580</td>\n",
       "      <td>2</td>\n",
       "      <td>9</td>\n",
       "      <td>1.80</td>\n",
       "      <td>0.90</td>\n",
       "    </tr>\n",
       "  </tbody>\n",
       "</table>\n",
       "</div>"
      ],
      "text/plain": [
       "   Country risk  Beneficiary  Issuing bank  Risk grade  Requesting office  \\\n",
       "0             1            0             7           2                  8   \n",
       "1             1            0            11           6                  1   \n",
       "2             1            0             1           6                  5   \n",
       "3             5            0             4           5                  6   \n",
       "4             3            0             4           5                  1   \n",
       "\n",
       "      Tenor  Request risk type  Risk  Charging fee  Limit availibility  \n",
       "0  0.172072                  2     1          0.04                0.02  \n",
       "1  0.311427                  2     4          0.72                0.36  \n",
       "2  0.922183                  1     1          0.06                0.03  \n",
       "3  0.131014                  2     5          1.00                0.50  \n",
       "4  0.140580                  2     9          1.80                0.90  "
      ]
     },
     "execution_count": 6,
     "metadata": {},
     "output_type": "execute_result"
    }
   ],
   "source": [
    "df.head()"
   ]
  },
  {
   "cell_type": "code",
   "execution_count": 13,
   "metadata": {
    "collapsed": true
   },
   "outputs": [],
   "source": [
    "# 必须把文本型转成Number\n",
    "\n",
    "x_data = []\n",
    "y_data = []\n",
    "\n",
    "for i, row in df.iterrows():\n",
    "    x_data.append([ int(row['Country risk']), \n",
    "                   int(row['Issuing bank']),\n",
    "                   int(row['Risk grade']), \n",
    "                   int(row['Requesting office']), \n",
    "                   float(row['Tenor']),\n",
    "                   int(row['Request risk type']),\n",
    "                  ])\n",
    "    y_data.append(float(row['Charging fee']))\n",
    "\n"
   ]
  },
  {
   "cell_type": "code",
   "execution_count": 14,
   "metadata": {
    "collapsed": true
   },
   "outputs": [],
   "source": [
    "# 转成numpy 格式\n",
    "import numpy as np\n",
    "x_data = np.array(x_data)\n",
    "y_data = np.array(y_data)"
   ]
  },
  {
   "cell_type": "code",
   "execution_count": 15,
   "metadata": {
    "collapsed": false
   },
   "outputs": [],
   "source": [
    "# normalization 归一化\n",
    "from sklearn.preprocessing import StandardScaler\n",
    "x_scaler = StandardScaler()\n",
    "x_train = x_scaler.fit_transform(x_data)\n",
    "x_data = x_train\n",
    "\n"
   ]
  },
  {
   "cell_type": "code",
   "execution_count": 8,
   "metadata": {
    "collapsed": true
   },
   "outputs": [],
   "source": [
    "# 把数据切分成训练集和测试集 一般都是20%切分,这样一刀切 会有问题\n",
    "#from sklearn.model_selection import train_test_split\n",
    "\n",
    "#x_train, x_test, y_train, y_test = train_test_split(x_data, y_data, test_size=0.2, random_state=66)"
   ]
  },
  {
   "cell_type": "code",
   "execution_count": 17,
   "metadata": {
    "collapsed": false
   },
   "outputs": [
    {
     "name": "stdout",
     "output_type": "stream",
     "text": [
      "0.2553517804\n"
     ]
    }
   ],
   "source": [
    "# 所以我们使用Kfold 而不用一刀切\n",
    "from sklearn.model_selection import KFold\n",
    "kf = KFold(n_splits = 10)\n",
    "model = LinearRegression()\n",
    "mse_list = []\n",
    "for train_index ,test_index in kf.split(x_data):\n",
    "    x_train = x_data[train_index]\n",
    "    y_train = y_data[train_index]\n",
    "    x_test  = x_data[test_index]\n",
    "    y_test  = y_data[test_index]\n",
    "    \n",
    "    model.fit(x_train,y_train)\n",
    "    \n",
    "    y_pred = model.predict(x_test)\n",
    "    mse_list.append(mean_squared_error(y_test, y_pred)) # 把 10个 MSE放到一个list 再求平均值 这个叫evaluation\n",
    "    \n",
    "print (sum(mse_list) / 10)"
   ]
  },
  {
   "cell_type": "code",
   "execution_count": 18,
   "metadata": {
    "collapsed": false
   },
   "outputs": [
    {
     "name": "stdout",
     "output_type": "stream",
     "text": [
      "0.255351775916\n"
     ]
    }
   ],
   "source": [
    "# 所以我们使用Kfold 而不用一刀切\n",
    "from sklearn.model_selection import KFold\n",
    "kf = KFold(n_splits = 10)\n",
    "model = Ridge(alpha=1.0)\n",
    "mse_list = []\n",
    "for train_index ,test_index in kf.split(x_data):\n",
    "    x_train = x_data[train_index]\n",
    "    y_train = y_data[train_index]\n",
    "    x_test  = x_data[test_index]\n",
    "    y_test  = y_data[test_index]\n",
    "    \n",
    "    model.fit(x_train,y_train)\n",
    "    \n",
    "    y_pred = model.predict(x_test)\n",
    "    mse_list.append(mean_squared_error(y_test, y_pred)) # 把 10个 MSE放到一个list 再求平均值 这个叫evaluation\n",
    "    \n",
    "print (sum(mse_list) / 10)"
   ]
  },
  {
   "cell_type": "code",
   "execution_count": 20,
   "metadata": {
    "collapsed": false
   },
   "outputs": [
    {
     "name": "stderr",
     "output_type": "stream",
     "text": [
      "D:\\Anaconda3\\lib\\site-packages\\ipykernel\\__main__.py:12: UserWarning: With alpha=0, this algorithm does not converge well. You are advised to use the LinearRegression estimator\n",
      "D:\\Anaconda3\\lib\\site-packages\\sklearn\\linear_model\\coordinate_descent.py:470: UserWarning: Coordinate descent with alpha=0 may lead to unexpected results and is discouraged.\n",
      "  positive)\n",
      "D:\\Anaconda3\\lib\\site-packages\\sklearn\\linear_model\\coordinate_descent.py:484: ConvergenceWarning: Objective did not converge. You might want to increase the number of iterations. Fitting data with very small alpha may cause precision problems.\n",
      "  ConvergenceWarning)\n"
     ]
    },
    {
     "name": "stdout",
     "output_type": "stream",
     "text": [
      "0.2553517804\n"
     ]
    }
   ],
   "source": [
    "# 所以我们使用Kfold 而不用一刀切\n",
    "from sklearn.model_selection import KFold\n",
    "kf = KFold(n_splits = 10)\n",
    "model = Lasso(alpha=0.1) # lasson 和 ridge 用的正则化方法不一样，如果这个参数 = 0 ，结果应该和线性回归一样。 \n",
    "mse_list = []\n",
    "for train_index ,test_index in kf.split(x_data):\n",
    "    x_train = x_data[train_index]\n",
    "    y_train = y_data[train_index]\n",
    "    x_test  = x_data[test_index]\n",
    "    y_test  = y_data[test_index]\n",
    "    \n",
    "    model.fit(x_train,y_train)\n",
    "    \n",
    "    y_pred = model.predict(x_test)\n",
    "    mse_list.append(mean_squared_error(y_test, y_pred)) # 把 10个 MSE放到一个list 再求平均值 这个叫evaluation\n",
    "    \n",
    "print (sum(mse_list) / 10)"
   ]
  },
  {
   "cell_type": "code",
   "execution_count": 15,
   "metadata": {
    "collapsed": false
   },
   "outputs": [
    {
     "data": {
      "text/plain": [
       "0.24332372962941981"
      ]
     },
     "execution_count": 15,
     "metadata": {},
     "output_type": "execute_result"
    }
   ],
   "source": [
    "# 回归问题，大部分回归模型都是对比MSE来判断好坏的, lINEARrEGRESSION\n",
    "from sklearn.linear_model import LinearRegression\n",
    "from sklearn.metrics import mean_squared_error\n",
    "model = LinearRegression()\n",
    "model.fit(x_train,y_train)\n",
    "y_pred = model.predict(x_test)\n",
    "\n",
    "mean_squared_error(y_test, y_pred) # MSE\n"
   ]
  },
  {
   "cell_type": "code",
   "execution_count": 19,
   "metadata": {
    "collapsed": false
   },
   "outputs": [
    {
     "data": {
      "text/plain": [
       "0.24332311021432854"
      ]
     },
     "execution_count": 19,
     "metadata": {},
     "output_type": "execute_result"
    }
   ],
   "source": [
    "from sklearn.linear_model import Ridge\n",
    "model2 = Ridge(alpha=1.0) \n",
    "model2.fit(x_train,y_train)\n",
    "\n",
    "y_pred2 = model2.predict(x_test)\n",
    "\n",
    "mean_squared_error(y_test, y_pred2) # MSE"
   ]
  },
  {
   "cell_type": "code",
   "execution_count": 20,
   "metadata": {
    "collapsed": false
   },
   "outputs": [
    {
     "data": {
      "text/plain": [
       "0.27711919637912158"
      ]
     },
     "execution_count": 20,
     "metadata": {},
     "output_type": "execute_result"
    }
   ],
   "source": [
    "from sklearn.linear_model import Lasso\n",
    "\n",
    "model3 = Lasso(alpha=0.1) \n",
    "model3.fit(x_train,y_train)\n",
    "\n",
    "y_pred3 = model3.predict(x_test)\n",
    "\n",
    "mean_squared_error(y_test, y_pred3) # MSE,数值越大越不好，所以这个不好"
   ]
  },
  {
   "cell_type": "code",
   "execution_count": null,
   "metadata": {
    "collapsed": true
   },
   "outputs": [],
   "source": [
    "# 对比显示岭回归最好，所以模型选择最终使用Ridge\n"
   ]
  }
 ],
 "metadata": {
  "kernelspec": {
   "display_name": "Python 3",
   "language": "python",
   "name": "python3"
  },
  "language_info": {
   "codemirror_mode": {
    "name": "ipython",
    "version": 3
   },
   "file_extension": ".py",
   "mimetype": "text/x-python",
   "name": "python",
   "nbconvert_exporter": "python",
   "pygments_lexer": "ipython3",
   "version": "3.6.0"
  }
 },
 "nbformat": 4,
 "nbformat_minor": 2
}
