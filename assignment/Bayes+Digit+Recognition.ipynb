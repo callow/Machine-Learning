{
 "cells": [
  {
   "cell_type": "markdown",
   "metadata": {},
   "source": [
    "# Import libs & datas "
   ]
  },
  {
   "cell_type": "code",
   "execution_count": 9,
   "metadata": {
    "collapsed": false
   },
   "outputs": [
    {
     "name": "stdout",
     "output_type": "stream",
     "text": [
      "Wall time: 8.99 s\n"
     ]
    }
   ],
   "source": [
    "%%time\n",
    "\n",
    "import numpy as np\n",
    "import pandas as pd\n",
    "from sklearn.lda import LDA\n",
    "from sklearn import datasets \n",
    "from sklearn import metrics\n",
    "from sklearn.model_selection import KFold\n",
    "from sklearn.naive_bayes import GaussianNB\n",
    "from sklearn.multiclass import OneVsOneClassifier\n",
    "from sklearn.multiclass import OneVsRestClassifier\n",
    "\n",
    "dataset = pd.read_csv(\"train.csv\")\n",
    "target = dataset[[0]].values.ravel()\n",
    "train = dataset.iloc[:,1:].values\n",
    "test = pd.read_csv(\"test.csv\").values\n",
    "\n",
    "# 测试集\n",
    "x_finaltest = test\n",
    "\n",
    "kf = KFold(n_splits = 10)"
   ]
  },
  {
   "cell_type": "markdown",
   "metadata": {},
   "source": [
    "# Train & predict "
   ]
  },
  {
   "cell_type": "code",
   "execution_count": 10,
   "metadata": {
    "collapsed": false
   },
   "outputs": [
    {
     "name": "stdout",
     "output_type": "stream",
     "text": [
      "0.556166666667\n",
      "Wall time: 4min 32s\n"
     ]
    }
   ],
   "source": [
    "%%time\n",
    "\n",
    "total_score1 = []\n",
    "gnb = GaussianNB()\n",
    "for train_index ,test_index in kf.split(train):\n",
    "    x_train = train[train_index]\n",
    "    y_train = target[train_index]\n",
    "    x_test  = train[test_index]\n",
    "    y_test  = target[test_index]\n",
    "    \n",
    "    # print (\"train: {0}  test:{1}\".format(train_index,test_index))\n",
    "    \n",
    "    #train the model\n",
    "    gnb.fit(x_train, y_train)\n",
    "    \n",
    "    # test model\n",
    "    y_predict1 = gnb.predict(x_test)\n",
    "    # print accurancy\n",
    "    #print (metrics.accuracy_score(y_predict1,y_test))\n",
    "    total_score1.append(metrics.accuracy_score(y_predict1,y_test))\n",
    "\n",
    "#平均分\n",
    "print(np.mean(total_score1))\n",
    "\n",
    "y_pred1 = gnb.predict(x_finaltest)\n",
    "\n",
    "np.savetxt('bayes.csv', np.c_[range(1,len(x_finaltest)+1),y_pred1], delimiter=',', \n",
    "           header = 'ImageId,Label', comments = '', fmt='%d')"
   ]
  },
  {
   "cell_type": "code",
   "execution_count": null,
   "metadata": {
    "collapsed": true
   },
   "outputs": [],
   "source": []
  }
 ],
 "metadata": {
  "kernelspec": {
   "display_name": "Python 3",
   "language": "python",
   "name": "python3"
  },
  "language_info": {
   "codemirror_mode": {
    "name": "ipython",
    "version": 3
   },
   "file_extension": ".py",
   "mimetype": "text/x-python",
   "name": "python",
   "nbconvert_exporter": "python",
   "pygments_lexer": "ipython3",
   "version": "3.6.0"
  }
 },
 "nbformat": 4,
 "nbformat_minor": 2
}
