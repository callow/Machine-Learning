{
 "cells": [
  {
   "cell_type": "code",
   "execution_count": 103,
   "metadata": {
    "collapsed": false
   },
   "outputs": [
    {
     "name": "stdout",
     "output_type": "stream",
     "text": [
      "Trainset index : \n",
      "[45, 66, 6, 68, 17, 137, 89, 13, 126, 107, 90, 22, 40, 11, 53, 82, 20, 133, 43, 119, 30, 47, 104, 95, 140, 19, 69, 61, 18, 12, 8, 108, 115, 15, 110, 142, 118, 135, 100, 130, 76, 42, 32, 81, 102, 36, 57, 71, 129, 26, 51, 2, 113, 5, 29, 79, 124, 62, 134, 86, 114, 4, 50, 88, 73, 28, 31, 52, 37, 44, 63, 91, 146, 60, 105, 48, 136, 70, 122, 138, 78, 74, 21, 38, 35, 23, 99, 139, 14, 34, 55, 123, 83, 97, 9, 93, 121, 106, 98, 141]\n",
      "\n",
      "Testset index : \n",
      "[0, 1, 128, 3, 131, 132, 7, 10, 143, 16, 144, 145, 24, 25, 27, 33, 39, 41, 46, 49, 54, 56, 58, 59, 64, 65, 67, 72, 75, 77, 80, 84, 85, 87, 92, 94, 96, 101, 103, 109, 111, 112, 116, 117, 120, 125, 127]\n"
     ]
    }
   ],
   "source": [
    "%matplotlib inline\n",
    "from sklearn.datasets import load_iris\n",
    "import matplotlib.pyplot as plt\n",
    "from sklearn import metrics\n",
    "from sklearn.metrics import confusion_matrix\n",
    "from sklearn import linear_model\n",
    "from sklearn import svm\n",
    "import numpy as np\n",
    "import random\n",
    "\n",
    "# load the data\n",
    "iris  = load_iris()\n",
    "\n",
    "# take the data\n",
    "data_x = iris.data[::]\n",
    "data_y = iris.target[::]\n",
    "\n",
    "# combine the data, actually unnecessary, but looks better\n",
    "new_dict = dict()\n",
    "for index in range(len(data_x)):\n",
    "    new_dict.update({str(data_x[index]): str(data_y[index])})\n",
    "\n",
    "# print trainset & testset indexs\n",
    "trainset_index = random.sample(range(0,len(new_dict)), 100) # random 100 training datas, D'\n",
    "fullset_index = random.sample(range(0,len(new_dict)), len(new_dict)) # 147 total data, D\n",
    "testset_index = list(set(fullset_index) - set(trainset_index)) # 47 testing data, D - D'\n",
    "print(\"Trainset index : \\n\" + str(trainset_index) + \"\\n\")\n",
    "print(\"Testset index : \\n\" + str(testset_index))\n",
    "\n",
    "# train set\n",
    "train_data = [ data_x[index] for index in trainset_index ]\n",
    "train_target = [ data_y[index] for index in trainset_index ]\n",
    "\n",
    "# test set\n",
    "test_data = [ data_x[index] for index in testset_index ]\n",
    "test_target = [ data_y[index] for index in testset_index ]\n"
   ]
  },
  {
   "cell_type": "code",
   "execution_count": 107,
   "metadata": {
    "collapsed": false
   },
   "outputs": [
    {
     "name": "stdout",
     "output_type": "stream",
     "text": [
      "Accurancy rate testset : 0.978723404255\n",
      "Accurancy rate trainset : 0.97\n",
      "\n",
      "Confusion Matrix testset: \n",
      " [[14  0  0]\n",
      " [ 0 16  1]\n",
      " [ 0  0 16]]\n",
      "Confusion Matrix trainset: \n",
      " [[36  0  0]\n",
      " [ 0 30  3]\n",
      " [ 0  0 31]]\n",
      "Reshaped confusion matrix testset : \n",
      "[14  0  0  0 16  1  0  0 16]\n",
      "Reshaped confusion matrix trainset : \n",
      "[36  0  0  0 30  3  0  0 31]\n",
      "\n",
      "P_trainset: 0.97 R_trainset: 0.97 F1_trainset: 0.97\n",
      "P_testset: 0.978723404255 R_testset: 0.978723404255 F1_testset: 0.978723404255\n",
      "\n",
      "trainset probability : \n",
      "[ 0.17550917  0.43540231  0.11535004  0.55065913  0.11440939  0.33983272\n",
      "  0.60624271  0.16331515  0.39008454  0.41444567  0.5661335   0.08456056\n",
      "  0.10730805  0.14118043  0.59626415  0.73575827  0.16300225  0.47757593\n",
      "  0.09744504  0.45591787  0.18653944  0.1512015   0.27684457  0.67119212\n",
      "  0.23299967  0.08748216  0.73376931  0.57578881  0.10807162  0.19873209\n",
      "  0.19237163  0.41158572  0.21319824  0.04639035  0.31052342  0.31127551\n",
      "  0.40387124  0.34198696  0.18798105  0.41617946  0.70331668  0.13985909\n",
      "  0.07651192  0.77212272  0.33657023  0.12751644  0.69605864  0.74310598\n",
      "  0.49194025  0.12634841  0.64607545  0.14728634  0.3097506   0.08437347\n",
      "  0.16788233  0.76792999  0.26852052  0.80705632  0.43547715  0.67715328\n",
      "  0.2099769   0.10968358  0.78769453  0.61735493  0.65024443  0.138702\n",
      "  0.12953245  0.67971386  0.19296487  0.09795561  0.56195683  0.59041781\n",
      "  0.37767333  0.69790421  0.37441327  0.10970458  0.17128359  0.31444215\n",
      "  0.41317134  0.34469534  0.53381026  0.76366122  0.08963886  0.16863624\n",
      "  0.14872587  0.13898283  0.64312342  0.32075737  0.07741107  0.19296487\n",
      "  0.5536501   0.40005606  0.40154701  0.72350997  0.19296487  0.72056851\n",
      "  0.26142751  0.30472254  0.63263859  0.2785602 ]\n",
      "testset probability : \n",
      "[ 0.12359914  0.18972778  0.30955791  0.17328131  0.36541662  0.29258233\n",
      "  0.13979553  0.11183222  0.25158641  0.06971933  0.19207267  0.26258536\n",
      "  0.16251825  0.20899301  0.13147219  0.06383302  0.142248    0.28466062\n",
      "  0.09954423  0.14726184  0.6339367   0.52103588  0.75312555  0.5072941\n",
      "  0.64868087  0.76928987  0.7799341   0.50703803  0.75234983  0.49884429\n",
      "  0.72710437  0.39132896  0.4805379   0.68313011  0.72295361  0.59389864\n",
      "  0.62455429  0.31127551  0.34746213  0.1916971   0.3596427   0.31522857\n",
      "  0.36020148  0.26733995  0.25398675  0.39940883  0.3507262 ]\n",
      "\n",
      "AUC testset : 0.983870967742\n",
      "AUC trainset : 0.978260869565\n"
     ]
    },
    {
     "data": {
      "text/plain": [
       "[<matplotlib.lines.Line2D at 0x1dc5ed36048>]"
      ]
     },
     "execution_count": 107,
     "metadata": {},
     "output_type": "execute_result"
    },
    {
     "data": {
      "image/png": "[encoded data removed]",
      "text/plain": [
       "<matplotlib.figure.Figure at 0x1dc5ed36630>"
      ]
     },
     "metadata": {},
     "output_type": "display_data"
    }
   ],
   "source": [
    "# SGDClassifier & SVC & LogisticRegresion\n",
    "\n",
    "#clf = linear_model.SGDClassifier()\n",
    "#clf = svm.SVC(kernel='linear',gamma=0.001,C=100)\n",
    "clf = linear_model.LogisticRegression()\n",
    "clf.fit(train_data,train_target)\n",
    "\n",
    "# print accurancy rate\n",
    "accurancy_rate_testset = accuracy_score(test_target, clf.predict(test_data))\n",
    "accurancy_rate_trainset = accuracy_score(train_target, clf.predict(train_data))\n",
    "\n",
    "print(\"Accurancy rate testset : \" + str(accurancy_rate_testset))\n",
    "print(\"Accurancy rate trainset : \" + str(accurancy_rate_trainset) + \"\\n\")\n",
    "\n",
    "# print confusion matrix\n",
    "confusion_train = confusion_matrix(train_target, clf.predict(train_data))\n",
    "confusion_test = confusion_matrix(test_target, clf.predict(test_data))\n",
    "\n",
    "print(\"Confusion Matrix testset: \\n \" + str(confusion_test))\n",
    "print(\"Confusion Matrix trainset: \\n \" + str(confusion_train))\n",
    "print(\"Reshaped confusion matrix testset : \\n\" + str(np.reshape(confusion_test, 9)))\n",
    "print(\"Reshaped confusion matrix trainset : \\n\" + str(np.reshape(confusion_train, 9)) + \"\\n\")\n",
    "\n",
    "# print P, R, F1\n",
    "P_train = metrics.precision_score(train_target, clf.predict(train_data),average='micro')\n",
    "R_train = metrics.recall_score(train_target, clf.predict(train_data),average='micro')\n",
    "F1_train = metrics.f1_score(train_target,clf.predict(train_data),average='micro')\n",
    "\n",
    "P_test = metrics.precision_score(test_target, clf.predict(test_data),average='micro')\n",
    "R_test = metrics.recall_score(test_target, clf.predict(test_data),average='micro')\n",
    "F1_test = metrics.f1_score(test_target,clf.predict(test_data),average='micro')\n",
    "\n",
    "print(\"P_trainset: \"+ str(P_train) + \" R_trainset: \" + str(R_train) + \" F1_trainset: \" + str(F1_train))\n",
    "print(\"P_testset: \"+ str(P_test) + \" R_testset: \" + str(R_test) + \" F1_testset: \" + str(F1_test) + \"\\n\")\n",
    "\n",
    "# print each prediction's probability\n",
    "predict_proba_train = clf.predict_proba(train_data)[:,1]\n",
    "predict_proba_test = clf.predict_proba(test_data)[:,1]\n",
    "\n",
    "print(\"trainset probability : \\n\" + str(predict_proba_train))\n",
    "print(\"testset probability : \\n\" + str(predict_proba_test) + \"\\n\")\n",
    "\n",
    "# calculate AUC\n",
    "fpr_test, tpr_test, threshhold_test = metrics.roc_curve(test_target, clf.predict(test_data),pos_label=2)\n",
    "fpr_train, tpr_train, threshhold_train = metrics.roc_curve(train_target, clf.predict(train_data),pos_label=2)\n",
    "auc_test = metrics.auc(fpr_test,tpr_test)\n",
    "auc_train = metrics.auc(fpr_train,tpr_train)\n",
    "\n",
    "print(\"AUC testset : \" + str(auc_test))\n",
    "print(\"AUC trainset : \" + str(auc_train))\n",
    "\n",
    "# draw ROC\n",
    "plt.plot(fpr_train,tpr_train,color='blue')\n",
    "plt.plot(fpr_test,tpr_test,color ='red')\n"
   ]
  },
  {
   "cell_type": "code",
   "execution_count": null,
   "metadata": {
    "collapsed": true
   },
   "outputs": [],
   "source": []
  }
 ],
 "metadata": {
  "kernelspec": {
   "display_name": "Python 3",
   "language": "python",
   "name": "python3"
  }
 },
 "nbformat": 4,
 "nbformat_minor": 2
}
