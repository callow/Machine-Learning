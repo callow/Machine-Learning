{
 "cells": [
  {
   "cell_type": "code",
   "execution_count": 16,
   "metadata": {
    "collapsed": false
   },
   "outputs": [
    {
     "name": "stdout",
     "output_type": "stream",
     "text": [
      "Trainset index : \n",
      "[0, 2, 4, 5, 6, 7, 9, 11, 12, 13, 15, 18, 19, 21, 22, 23, 24, 25, 26, 27, 28, 30, 31, 32, 33, 34, 35, 37, 39, 40, 41, 44, 46, 48, 50, 52, 54, 55, 56, 58, 59, 60, 63, 64, 66, 67, 68, 70, 71, 73, 74, 75, 76, 77, 78, 79, 81, 85, 86, 88, 89, 90, 92, 93, 94, 95, 97, 100, 101, 103, 105, 106, 107, 108, 109, 110, 111, 114, 115, 116, 117, 118, 119, 121, 122, 124, 126, 129, 132, 133, 134, 135, 138, 140, 141, 142, 143, 147, 148, 149]\n",
      "\n",
      "Testset index : \n",
      "[128, 1, 130, 3, 131, 8, 136, 10, 137, 139, 14, 16, 17, 144, 145, 20, 146, 29, 36, 38, 42, 43, 45, 47, 49, 51, 53, 57, 61, 62, 65, 69, 72, 80, 82, 83, 84, 87, 91, 96, 98, 99, 102, 104, 112, 113, 120, 123, 125, 127]\n"
     ]
    }
   ],
   "source": [
    "%matplotlib inline\n",
    "from sklearn.datasets import load_iris\n",
    "import matplotlib.pyplot as plt\n",
    "from sklearn import metrics\n",
    "from sklearn.metrics import confusion_matrix\n",
    "from sklearn import linear_model\n",
    "from sklearn import svm\n",
    "from sklearn.metrics import accuracy_score\n",
    "import numpy as np\n",
    "import random\n",
    "\n",
    "# load the data\n",
    "iris  = load_iris()\n",
    "\n",
    "# take the data\n",
    "data_x = iris.data[::]\n",
    "data_y = iris.target[::]\n",
    "\n",
    "# print trainset & testset indexs\n",
    "D_bar = [];\n",
    "D = list(range(0, len(data_x)))\n",
    "for index in range(0,len(data_x)):\n",
    "    value = random.randint(0, len(data_x))\n",
    "    D_bar.append(value) # D'\n",
    "    D.append(value) # D\n",
    "\n",
    "testset_index = list(set(D) - set(D_bar)) # D-D'\n",
    "trainset_index = list(set(D_bar)) # D'\n",
    "\n",
    "print(\"Trainset index : \\n\" + str(trainset_index) + \"\\n\")\n",
    "print(\"Testset index : \\n\" + str(testset_index))\n",
    "\n",
    "# train set\n",
    "train_data = [ data_x[index] for index in trainset_index ]\n",
    "train_target = [ data_y[index] for index in trainset_index ]\n",
    "\n",
    "# test set\n",
    "test_data = [ data_x[index] for index in testset_index ]\n",
    "test_target = [ data_y[index] for index in testset_index ]\n"
   ]
  },
  {
   "cell_type": "code",
   "execution_count": 17,
   "metadata": {
    "collapsed": false
   },
   "outputs": [
    {
     "name": "stdout",
     "output_type": "stream",
     "text": [
      "Accurancy rate testset : 0.96\n",
      "Accurancy rate trainset : 0.98\n",
      "\n",
      "Confusion Matrix testset: \n",
      " [[16  0  0]\n",
      " [ 0 15  2]\n",
      " [ 0  0 17]]\n",
      "Confusion Matrix trainset: \n",
      " [[34  0  0]\n",
      " [ 0 31  2]\n",
      " [ 0  0 33]]\n",
      "Reshaped confusion matrix testset : \n",
      "[16  0  0  0 15  2  0  0 17]\n",
      "Reshaped confusion matrix trainset : \n",
      "[34  0  0  0 31  2  0  0 33]\n",
      "\n",
      "P_trainset: 0.98 R_trainset: 0.98 F1_trainset: 0.98\n",
      "P_testset: 0.96 R_testset: 0.96 F1_testset: 0.96\n",
      "\n",
      "trainset probability : \n",
      "[ 0.13300142  0.15468495  0.11651412  0.09205084  0.11927135  0.14767309\n",
      "  0.20094512  0.14473606  0.20727304  0.16733429  0.05289774  0.12068683\n",
      "  0.0934568   0.09715583  0.0896262   0.15020202  0.16210653  0.2195802\n",
      "  0.13495034  0.14143637  0.15095369  0.19261888  0.14552162  0.07999122\n",
      "  0.07058525  0.20094512  0.1623439   0.20094512  0.15175176  0.11679545\n",
      "  0.29711752  0.10135128  0.10403872  0.11881964  0.81326964  0.70576448\n",
      "  0.66094641  0.53829594  0.52861717  0.77249553  0.50300905  0.70363023\n",
      "  0.55801402  0.66424662  0.41754388  0.78140509  0.57115232  0.30536773\n",
      "  0.76509598  0.64251025  0.78485635  0.77999016  0.72829088  0.51782651\n",
      "  0.53925796  0.77300799  0.77953313  0.48053721  0.70420083  0.61477238\n",
      "  0.61296132  0.54751152  0.73667934  0.72500641  0.59156003  0.6653931\n",
      "  0.74013433  0.18406069  0.30449629  0.33687566  0.37801763  0.28702181\n",
      "  0.4115384   0.4103469   0.19946349  0.31969836  0.36198395  0.2133226\n",
      "  0.21948281  0.35353352  0.26517312  0.40975856  0.45163314  0.25539462\n",
      "  0.4158322   0.26734393  0.39927646  0.49038113  0.29517118  0.46932885\n",
      "  0.4167364   0.36287792  0.34291118  0.24306071  0.31152655  0.30449629\n",
      "  0.25506655  0.32756931  0.17486428  0.29681681]\n",
      "testset probability : \n",
      "[ 0.30993727  0.20140252  0.42158771  0.17731512  0.3690558   0.1959602\n",
      "  0.17021569  0.12242236  0.32904243  0.33664572  0.09125848  0.07966831\n",
      "  0.12450138  0.19979718  0.28273472  0.17528982  0.38712747  0.171415\n",
      "  0.14435501  0.17287516  0.14252004  0.10623941  0.18658266  0.15574343\n",
      "  0.15738267  0.66805046  0.60571965  0.695867    0.59203902  0.82295143\n",
      "  0.79597755  0.74174563  0.51088191  0.73665947  0.74979996  0.38987342\n",
      "  0.36529179  0.70733776  0.59046946  0.62390549  0.64060904  0.64957441\n",
      "  0.34369913  0.27604956  0.32503015  0.30758856  0.26370567  0.40974253\n",
      "  0.39561597  0.34897233]\n",
      "\n",
      "AUC testset : 0.969696969697\n",
      "AUC trainset : 0.985074626866\n"
     ]
    },
    {
     "data": {
      "text/plain": [
       "[<matplotlib.lines.Line2D at 0x1c640fbba58>]"
      ]
     },
     "execution_count": 17,
     "metadata": {},
     "output_type": "execute_result"
    },
    {
     "data": {
      "image/png": "[encoded data removed]",
      "text/plain": [
       "<matplotlib.figure.Figure at 0x1c63de2f3c8>"
      ]
     },
     "metadata": {},
     "output_type": "display_data"
    }
   ],
   "source": [
    "# SGDClassifier & SVC & LogisticRegresion\n",
    "\n",
    "#clf = linear_model.SGDClassifier()\n",
    "#clf = svm.SVC(kernel='linear',gamma=0.001,C=100)\n",
    "clf = linear_model.LogisticRegression()\n",
    "clf.fit(train_data,train_target)\n",
    "\n",
    "# print accurancy rate\n",
    "accurancy_rate_testset = accuracy_score(test_target, clf.predict(test_data))\n",
    "accurancy_rate_trainset = accuracy_score(train_target, clf.predict(train_data))\n",
    "\n",
    "print(\"Accurancy rate testset : \" + str(accurancy_rate_testset))\n",
    "print(\"Accurancy rate trainset : \" + str(accurancy_rate_trainset) + \"\\n\")\n",
    "\n",
    "# print confusion matrix\n",
    "confusion_train = confusion_matrix(train_target, clf.predict(train_data))\n",
    "confusion_test = confusion_matrix(test_target, clf.predict(test_data))\n",
    "\n",
    "print(\"Confusion Matrix testset: \\n \" + str(confusion_test))\n",
    "print(\"Confusion Matrix trainset: \\n \" + str(confusion_train))\n",
    "print(\"Reshaped confusion matrix testset : \\n\" + str(np.reshape(confusion_test, 9)))\n",
    "print(\"Reshaped confusion matrix trainset : \\n\" + str(np.reshape(confusion_train, 9)) + \"\\n\")\n",
    "\n",
    "# print P, R, F1\n",
    "P_train = metrics.precision_score(train_target, clf.predict(train_data),average='micro')\n",
    "R_train = metrics.recall_score(train_target, clf.predict(train_data),average='micro')\n",
    "F1_train = metrics.f1_score(train_target,clf.predict(train_data),average='micro')\n",
    "\n",
    "P_test = metrics.precision_score(test_target, clf.predict(test_data),average='micro')\n",
    "R_test = metrics.recall_score(test_target, clf.predict(test_data),average='micro')\n",
    "F1_test = metrics.f1_score(test_target,clf.predict(test_data),average='micro')\n",
    "\n",
    "print(\"P_trainset: \"+ str(P_train) + \" R_trainset: \" + str(R_train) + \" F1_trainset: \" + str(F1_train))\n",
    "print(\"P_testset: \"+ str(P_test) + \" R_testset: \" + str(R_test) + \" F1_testset: \" + str(F1_test) + \"\\n\")\n",
    "\n",
    "# print each prediction's probability\n",
    "predict_proba_train = clf.predict_proba(train_data)[:,1]\n",
    "predict_proba_test = clf.predict_proba(test_data)[:,1]\n",
    "\n",
    "print(\"trainset probability : \\n\" + str(predict_proba_train))\n",
    "print(\"testset probability : \\n\" + str(predict_proba_test) + \"\\n\")\n",
    "\n",
    "# calculate AUC\n",
    "fpr_test, tpr_test, threshhold_test = metrics.roc_curve(test_target, clf.predict(test_data),pos_label=2)\n",
    "fpr_train, tpr_train, threshhold_train = metrics.roc_curve(train_target, clf.predict(train_data),pos_label=2)\n",
    "auc_test = metrics.auc(fpr_test,tpr_test)\n",
    "auc_train = metrics.auc(fpr_train,tpr_train)\n",
    "\n",
    "print(\"AUC testset : \" + str(auc_test))\n",
    "print(\"AUC trainset : \" + str(auc_train))\n",
    "\n",
    "# draw ROC\n",
    "plt.plot(fpr_train,tpr_train,color='blue')\n",
    "plt.plot(fpr_test,tpr_test,color ='red')\n"
   ]
  },
  {
   "cell_type": "code",
   "execution_count": null,
   "metadata": {
    "collapsed": true
   },
   "outputs": [],
   "source": []
  }
 ],
 "metadata": {
  "kernelspec": {
   "display_name": "Python 3",
   "language": "python",
   "name": "python3"
  },
  "language_info": {
   "codemirror_mode": {
    "name": "ipython",
    "version": 3
   },
   "file_extension": ".py",
   "mimetype": "text/x-python",
   "name": "python",
   "nbconvert_exporter": "python",
   "pygments_lexer": "ipython3",
   "version": "3.6.0"
  }
 },
 "nbformat": 4,
 "nbformat_minor": 2
}