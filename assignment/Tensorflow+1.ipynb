{
 "cells": [
  {
   "cell_type": "code",
   "execution_count": 12,
   "metadata": {
    "collapsed": false
   },
   "outputs": [
    {
     "name": "stdout",
     "output_type": "stream",
     "text": [
      "[array([ 15.], dtype=float32)]\n"
     ]
    }
   ],
   "source": [
    "import tensorflow as tf\n",
    "\n",
    "with tf.Session() as sess:\n",
    "    with tf.device(\"/cpu:0\"): # use cpu:0\n",
    "        with tf.name_scope('My-Graphic') as scope: # give a name\n",
    "            #10x-5\n",
    "            x = tf.placeholder(tf.float32, name='Input-X')# name some variables\n",
    "            v = tf.Variable([10.0], name = \"Variable\")\n",
    "            c = tf.constant([5.0],name=\"Constant\")\n",
    "            mul = tf.multiply(x,v,name=\"Mul\")\n",
    "            out = tf.subtract(mul,c,name=\"Output\")\n",
    "            file_writer = tf.summary.FileWriter('tflog', sess.graph) # save some log\n",
    "            \n",
    "            sess.run(tf.global_variables_initializer())\n",
    "            print(sess.run([out],feed_dict={x:[2.0]}))"
   ]
  },
  {
   "cell_type": "code",
   "execution_count": 13,
   "metadata": {
    "collapsed": false
   },
   "outputs": [
    {
     "name": "stdout",
     "output_type": "stream",
     "text": [
      "Requirement already satisfied: keras in d:\\anaconda3\\envs\\envtf\\lib\\site-packages\n",
      "Requirement already satisfied: theano in d:\\anaconda3\\envs\\envtf\\lib\\site-packages (from keras)\n",
      "Requirement already satisfied: six in d:\\anaconda3\\envs\\envtf\\lib\\site-packages (from keras)\n",
      "Requirement already satisfied: pyyaml in d:\\anaconda3\\envs\\envtf\\lib\\site-packages (from keras)\n",
      "Requirement already satisfied: scipy>=0.14 in d:\\anaconda3\\envs\\envtf\\lib\\site-packages (from theano->keras)\n",
      "Requirement already satisfied: numpy>=1.9.1 in d:\\anaconda3\\envs\\envtf\\lib\\site-packages (from theano->keras)\n"
     ]
    }
   ],
   "source": [
    "!pip install keras"
   ]
  },
  {
   "cell_type": "code",
   "execution_count": null,
   "metadata": {
    "collapsed": true
   },
   "outputs": [],
   "source": [
    "!tensorboard --logdir=tflog"
   ]
  },
  {
   "cell_type": "code",
   "execution_count": null,
   "metadata": {
    "collapsed": true
   },
   "outputs": [],
   "source": []
  }
 ],
 "metadata": {
  "kernelspec": {
   "display_name": "Python 3",
   "language": "python",
   "name": "python3"
  },
  "language_info": {
   "codemirror_mode": {
    "name": "ipython",
    "version": 3
   },
   "file_extension": ".py",
   "mimetype": "text/x-python",
   "name": "python",
   "nbconvert_exporter": "python",
   "pygments_lexer": "ipython3",
   "version": "3.6.0"
  }
 },
 "nbformat": 4,
 "nbformat_minor": 2
}
