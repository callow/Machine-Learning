{
 "cells": [
  {
   "cell_type": "code",
   "execution_count": 41,
   "metadata": {
    "collapsed": true
   },
   "outputs": [],
   "source": [
    "from sklearn.datasets import load_digits\n",
    "from sklearn.model_selection import train_test_split\n",
    "\n",
    "\n",
    "digit = load_digits()\n",
    "\n",
    "data_x = digit.data\n",
    "data_y = digit.target\n",
    "\n",
    "\n",
    "x_train, x_test, y_train, y_test = train_test_split(data_x, data_y, test_size=0.2, random_state=42)\n"
   ]
  },
  {
   "cell_type": "code",
   "execution_count": 42,
   "metadata": {},
   "outputs": [
    {
     "data": {
      "text/plain": [
       "(1437, 64)"
      ]
     },
     "execution_count": 42,
     "metadata": {},
     "output_type": "execute_result"
    }
   ],
   "source": [
    "# 查看一下\n",
    "x_train.shape # 64 -> 8 * 8"
   ]
  },
  {
   "cell_type": "code",
   "execution_count": 43,
   "metadata": {},
   "outputs": [],
   "source": [
    "# 导入想换类库\n",
    "import keras\n",
    "from keras.models import Sequential\n",
    "from keras.layers import Dense, Dropout,Flatten\n",
    "from keras.layers import Conv2D, MaxPooling2D\n",
    "from keras import backend as K"
   ]
  },
  {
   "cell_type": "code",
   "execution_count": 44,
   "metadata": {},
   "outputs": [
    {
     "name": "stdout",
     "output_type": "stream",
     "text": [
      "(8, 8, 1)\n"
     ]
    }
   ],
   "source": [
    "num_classes = 10\n",
    "\n",
    "# input image dimensions\n",
    "img_rows, img_cols = 8, 8\n",
    "\n",
    "if K.image_data_format() == 'channels_first':\n",
    "    x_train = x_train.reshape(x_train.shape[0],1,img_rows,img_cols)\n",
    "    x_test = x_test.reshape(x_test.shape[0],1,img_rows,img_cols)\n",
    "    input_shape = (1,img_rows,img_cols) # 1 就是通道数， 3 就是RGB， 1 = 黑白的/灰度图\n",
    "    print (input_shape)\n",
    "else:\n",
    "    x_train = x_train.reshape(x_train.shape[0],img_rows,img_cols,1)\n",
    "    x_test = x_test.reshape(x_test.shape[0],img_rows,img_cols,1)\n",
    "    input_shape = (img_rows,img_cols,1)\n",
    "    print (input_shape)"
   ]
  },
  {
   "cell_type": "code",
   "execution_count": 45,
   "metadata": {},
   "outputs": [
    {
     "name": "stdout",
     "output_type": "stream",
     "text": [
      "x_train shape: (1437, 8, 8, 1)\n",
      "1437 train samples\n",
      "360 test samples\n"
     ]
    }
   ],
   "source": [
    "# 0~1 float\n",
    "\n",
    "x_train = x_train.astype(\"float32\")\n",
    "x_test  = x_test.astype(\"float32\")\n",
    "x_train /= 255\n",
    "x_test  /=255\n",
    "\n",
    "print('x_train shape:', x_train.shape)\n",
    "print(x_train.shape[0], 'train samples')\n",
    "print(x_test.shape[0], 'test samples')"
   ]
  },
  {
   "cell_type": "code",
   "execution_count": 46,
   "metadata": {},
   "outputs": [],
   "source": [
    "y_train = keras.utils.to_categorical(y_train,num_classes) # one-hot vector , 因为softmax要用\n",
    "y_test = keras.utils.to_categorical(y_test,num_classes)\n",
    "\n",
    "model =Sequential()\n",
    "model.add(Conv2D(32, kernel_size=(3,3), activation='relu',\n",
    "          input_shape=input_shape)) #32C3\n",
    "\n",
    "model.add(Conv2D(64, kernel_size=(3,3), activation='relu')) #64C3\n",
    "\n",
    "model.add(MaxPooling2D(pool_size=(2,2))) #MP2\n",
    "model.add(Dropout(0.25))\n",
    "\n",
    "model.add(Flatten())\n",
    "model.add(Dense(128,activation='relu')) # Dense前都要接Flatten , 6C5-MP2-16C5-MP2-120C1    (FLATTEN)   -84N-10N\n",
    "\n",
    "model.add(Dropout(0.5))\n",
    "model.add(Dense(num_classes,activation='softmax'))\n",
    "\n",
    "model.compile(loss=keras.losses.categorical_crossentropy,\n",
    "              optimizer=keras.optimizers.Adadelta(),\n",
    "              metrics=['accuracy'])"
   ]
  },
  {
   "cell_type": "code",
   "execution_count": 47,
   "metadata": {},
   "outputs": [
    {
     "name": "stdout",
     "output_type": "stream",
     "text": [
      "Train on 1437 samples, validate on 360 samples\n",
      "Epoch 1/12\n",
      "1437/1437 [==============================] - 1s - loss: 2.3012 - acc: 0.1294 - val_loss: 2.2997 - val_acc: 0.1028\n",
      "Epoch 2/12\n",
      "1437/1437 [==============================] - 0s - loss: 2.2986 - acc: 0.1594 - val_loss: 2.2970 - val_acc: 0.1694\n",
      "Epoch 3/12\n",
      "1437/1437 [==============================] - 0s - loss: 2.2944 - acc: 0.1837 - val_loss: 2.2934 - val_acc: 0.2000\n",
      "Epoch 4/12\n",
      "1437/1437 [==============================] - 0s - loss: 2.2908 - acc: 0.2088 - val_loss: 2.2883 - val_acc: 0.2222\n",
      "Epoch 5/12\n",
      "1437/1437 [==============================] - 0s - loss: 2.2829 - acc: 0.2331 - val_loss: 2.2792 - val_acc: 0.2250\n",
      "Epoch 6/12\n",
      "1437/1437 [==============================] - 0s - loss: 2.2744 - acc: 0.2387 - val_loss: 2.2644 - val_acc: 0.4139\n",
      "Epoch 7/12\n",
      "1437/1437 [==============================] - 0s - loss: 2.2531 - acc: 0.2930 - val_loss: 2.2386 - val_acc: 0.5611\n",
      "Epoch 8/12\n",
      "1437/1437 [==============================] - 0s - loss: 2.2204 - acc: 0.3361 - val_loss: 2.1923 - val_acc: 0.3417\n",
      "Epoch 9/12\n",
      "1437/1437 [==============================] - 0s - loss: 2.1508 - acc: 0.3619 - val_loss: 2.0869 - val_acc: 0.5028\n",
      "Epoch 10/12\n",
      "1437/1437 [==============================] - 0s - loss: 2.0190 - acc: 0.3981 - val_loss: 1.9006 - val_acc: 0.5694\n",
      "Epoch 11/12\n",
      "1437/1437 [==============================] - 0s - loss: 1.8112 - acc: 0.4342 - val_loss: 1.5992 - val_acc: 0.5750\n",
      "Epoch 12/12\n",
      "1437/1437 [==============================] - 0s - loss: 1.5961 - acc: 0.4746 - val_loss: 1.3087 - val_acc: 0.66390.4\n"
     ]
    }
   ],
   "source": [
    "batch_size = 128\n",
    "epochs = 12\n",
    "model.fit(x_train, y_train,\n",
    "          batch_size=batch_size,\n",
    "          epochs=epochs,\n",
    "          verbose=1,\n",
    "          validation_data=(x_test, y_test))\n",
    "score = model.evaluate(x_test, y_test, verbose=0)"
   ]
  },
  {
   "cell_type": "code",
   "execution_count": 48,
   "metadata": {
    "collapsed": true
   },
   "outputs": [],
   "source": [
    "import numpy as np\n",
    "\n",
    "y_pred = np.argmax(model.predict(x_train),axis=1) # 把one Hot vector 转换回到数字"
   ]
  },
  {
   "cell_type": "code",
   "execution_count": null,
   "metadata": {
    "collapsed": true
   },
   "outputs": [],
   "source": []
  }
 ],
 "metadata": {
  "kernelspec": {
   "display_name": "Python 3",
   "language": "python",
   "name": "python3"
  },
  "language_info": {
   "codemirror_mode": {
    "name": "ipython",
    "version": 3
   },
   "file_extension": ".py",
   "mimetype": "text/x-python",
   "name": "python",
   "nbconvert_exporter": "python",
   "pygments_lexer": "ipython3",
   "version": "3.5.3"
  }
 },
 "nbformat": 4,
 "nbformat_minor": 2
}
