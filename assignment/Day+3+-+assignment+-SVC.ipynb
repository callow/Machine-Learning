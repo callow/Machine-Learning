{
 "cells": [
  {
   "cell_type": "code",
   "execution_count": 1,
   "metadata": {
    "collapsed": true
   },
   "outputs": [],
   "source": [
    "def printMismatchedData(train_predict,train_target,train_data):\n",
    "    counter = int(0);\n",
    "    index_list = [];\n",
    "    for index in range(len(train_predict)):\n",
    "        if (train_predict[index] != train_target[index]) | (np.isnan(train_predict[index])) | (np.isnan(train_target[index])):\n",
    "            print(\"Originl :\" + str(train_target[index]) + \" Predict :\" + str(train_predict[index]))\n",
    "            index_list.append(index)\n",
    "            counter += 1\n",
    "    \n",
    "    # Accuracy rate\n",
    "    print(\"Accurancy rate : \" + str(int(1)- counter/len(train_predict)))\n",
    "    \n",
    "    # Draw\n",
    "    draw2Images(index_list,train_data)"
   ]
  },
  {
   "cell_type": "code",
   "execution_count": 2,
   "metadata": {
    "collapsed": false
   },
   "outputs": [],
   "source": [
    "def draw2Images(index_list,train_data):\n",
    "    if len(index_list) >= 2:\n",
    "        plt.imshow(train_data.iloc[index_list[0],:].as_matrix().reshape(28,28), cmap=cm.binary)\n",
    "        plt.show()\n",
    "        plt.imshow(train_data.iloc[index_list[1],:].as_matrix().reshape(28,28), cmap=cm.binary)\n",
    "        plt.show()\n",
    "       "
   ]
  },
  {
   "cell_type": "code",
   "execution_count": 3,
   "metadata": {
    "collapsed": false
   },
   "outputs": [
    {
     "name": "stdout",
     "output_type": "stream",
     "text": [
      "Accurancy rate : 1.0\n",
      "Wall time: 4min 31s\n"
     ]
    }
   ],
   "source": [
    "%%time\n",
    "import pandas as pd \n",
    "from sklearn import svm\n",
    "import numpy as np\n",
    "import matplotlib.pyplot as plt\n",
    "import matplotlib.cm as cm\n",
    "\n",
    "from numpy import genfromtxt,savetxt\n",
    "\n",
    "test_dataset = pd.read_csv(\"../datasets/digit/test.csv\")\n",
    "train_dataset = pd.read_csv(\"../datasets/digit/train.csv\")\n",
    "train_target = train_dataset.iloc[0:20000,0] # label\n",
    "train_data = train_dataset.iloc[0:20000,1:] # pixels\n",
    "\n",
    "# train\n",
    "clf = svm.SVC(kernel='linear')\n",
    "clf = clf.fit(train_data, train_target.values.ravel())\n",
    "\n",
    "# predict\n",
    "train_predict = clf.predict(train_data)\n",
    "\n",
    "#print error rate\n",
    "printMismatchedData(train_predict,train_target,train_data)\n",
    "\n",
    "# predict test data\n",
    "rs = clf.predict(test_dataset)\n",
    "\n",
    "# format result\n",
    "sm = pd.DataFrame({'ImageId': range(1, len(rs) + 1), 'Label':rs})\n",
    "\n",
    "#save result\n",
    "sm.to_csv('mine_submission.csv',index=False)"
   ]
  },
  {
   "cell_type": "code",
   "execution_count": null,
   "metadata": {
    "collapsed": true
   },
   "outputs": [],
   "source": []
  }
 ],
 "metadata": {
  "kernelspec": {
   "display_name": "Python 3",
   "language": "python",
   "name": "python3"
  },
  "language_info": {
   "codemirror_mode": {
    "name": "ipython",
    "version": 3
   },
   "file_extension": ".py",
   "mimetype": "text/x-python",
   "name": "python",
   "nbconvert_exporter": "python",
   "pygments_lexer": "ipython3",
   "version": "3.6.0"
  }
 },
 "nbformat": 4,
 "nbformat_minor": 2
}
