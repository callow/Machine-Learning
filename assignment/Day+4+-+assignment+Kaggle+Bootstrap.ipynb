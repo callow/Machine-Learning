{
 "cells": [
  {
   "cell_type": "code",
   "execution_count": 19,
   "metadata": {
    "collapsed": false
   },
   "outputs": [
    {
     "name": "stdout",
     "output_type": "stream",
     "text": [
      "Accurancy rate testset : 0.843142857143\n",
      "Accurancy rate trainset : 0.852885714286\n",
      "\n"
     ]
    }
   ],
   "source": [
    "%matplotlib inline\n",
    "from sklearn.datasets import load_iris\n",
    "import matplotlib.pyplot as plt\n",
    "from sklearn import metrics\n",
    "from sklearn.metrics import confusion_matrix\n",
    "from sklearn import linear_model\n",
    "from sklearn.metrics import accuracy_score\n",
    "from sklearn import svm\n",
    "import numpy as np\n",
    "import pandas as pd \n",
    "import random\n",
    "\n",
    "# load the data\n",
    "test_dataset = pd.read_csv(\"../datasets/digit/test.csv\")\n",
    "train_dataset = pd.read_csv(\"../datasets/digit/train.csv\")\n",
    "data_y = train_dataset.iloc[:,0] # label\n",
    "data_x = train_dataset.iloc[:,1:] # pixels\n",
    "\n",
    "# choose trainset & testset indexs\n",
    "trainset_index = random.sample(range(0,len(data_x)), 35000) # random 35000 training datas, D'\n",
    "fullset_index = random.sample(range(0,len(data_x)), len(data_x)) # 42000 total data, D\n",
    "testset_index = list(set(fullset_index) - set(trainset_index)) # 7000 testing data, D - D'\n",
    "\n",
    "# train set\n",
    "train_data = [ data_x.loc[index] for index in trainset_index ]\n",
    "train_target = [ data_y.loc[index] for index in trainset_index ]\n",
    "\n",
    "# test set\n",
    "test_data = [ data_x.loc[index] for index in testset_index ]\n",
    "test_target = [ data_y.loc[index] for index in testset_index ]\n",
    "\n",
    "# train\n",
    "clf = linear_model.SGDClassifier()\n",
    "clf.fit(train_data,train_target)\n",
    "\n",
    "# predict\n",
    "clf.predict(test_data)\n",
    "\n",
    "# print accurancy rate\n",
    "accurancy_rate_testset = accuracy_score(test_target, clf.predict(test_data))\n",
    "accurancy_rate_trainset = accuracy_score(train_target, clf.predict(train_data))\n",
    "\n",
    "print(\"Accurancy rate testset : \" + str(accurancy_rate_testset))\n",
    "print(\"Accurancy rate trainset : \" + str(accurancy_rate_trainset) + \"\\n\")\n",
    "\n",
    "# format result\n",
    "rs = clf.predict(test_dataset)\n",
    "sm = pd.DataFrame({'ImageId': range(1, len(rs) + 1), 'Label':rs})\n",
    "\n",
    "#save result\n",
    "sm.to_csv('mine_submission.csv',index=False)"
   ]
  },
  {
   "cell_type": "code",
   "execution_count": null,
   "metadata": {
    "collapsed": true
   },
   "outputs": [],
   "source": []
  },
  {
   "cell_type": "code",
   "execution_count": null,
   "metadata": {
    "collapsed": true
   },
   "outputs": [],
   "source": []
  }
 ],
 "metadata": {
  "kernelspec": {
   "display_name": "Python 3",
   "language": "python",
   "name": "python3"
  },
  "language_info": {
   "codemirror_mode": {
    "name": "ipython",
    "version": 3
   },
   "file_extension": ".py",
   "mimetype": "text/x-python",
   "name": "python",
   "nbconvert_exporter": "python",
   "pygments_lexer": "ipython3",
   "version": "3.6.0"
  }
 },
 "nbformat": 4,
 "nbformat_minor": 2
}
