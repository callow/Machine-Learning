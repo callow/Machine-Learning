{
 "cells": [
  {
   "cell_type": "code",
   "execution_count": 7,
   "metadata": {},
   "outputs": [],
   "source": [
    "import keras\n",
    "import numpy as np\n",
    "import pandas as pd\n",
    "from sklearn import datasets\n",
    "from keras.models import Sequential\n",
    "from keras.layers.core import Dense, Dropout, Activation"
   ]
  },
  {
   "cell_type": "markdown",
   "metadata": {},
   "source": [
    "# 1. create the model"
   ]
  },
  {
   "cell_type": "code",
   "execution_count": 8,
   "metadata": {
    "collapsed": true
   },
   "outputs": [],
   "source": [
    "model  = Sequential() #顺序模型\n",
    "\n",
    "#输入曾\n",
    "model.add(Dense(784, input_shape=(784,))) # Dense 就是常用的全链接层次,里面有几个神经元\n",
    "model.add(Activation(\"relu\")) # 激活函数\n",
    "\n",
    "#隐层 1 \n",
    "model.add(Dense(160)) # Dense就是常用的全链接层\n",
    "model.add(Activation(\"relu\")) #激活函数\n",
    "\n",
    "#隐层 2 \n",
    "model.add(Dense(160)) # Dense就是常用的全链接层\n",
    "model.add(Activation(\"relu\")) #激活函数\n",
    "\n",
    "#隐层 3\n",
    "model.add(Dense(160)) # Dense就是常用的全链接层\n",
    "model.add(Activation(\"relu\")) #激活函数\n",
    "\n",
    "#隐层 4\n",
    "model.add(Dense(160)) # Dense就是常用的全链接层\n",
    "model.add(Activation(\"relu\")) #激活函数\n",
    "\n",
    "#输出层\n",
    "model.add(Dense(10)) # Dense就是常用的全链接层\n",
    "model.add(Activation(\"softmax\")) # 只能输出0 和 1\n",
    "\n",
    "model.compile(optimizer='adam', loss='categorical_crossentropy', metrics=[\"accuracy\"])  "
   ]
  },
  {
   "cell_type": "markdown",
   "metadata": {},
   "source": [
    "# 2. Read the data"
   ]
  },
  {
   "cell_type": "code",
   "execution_count": 10,
   "metadata": {},
   "outputs": [
    {
     "name": "stdout",
     "output_type": "stream",
     "text": [
      "Train on 33600 samples, validate on 8400 samples\n",
      "Epoch 1/500\n",
      "33600/33600 [==============================] - 58s - loss: 14.5213 - acc: 0.0988 - val_loss: 14.4833 - val_acc: 0.1014\n",
      "Epoch 2/500\n",
      "33600/33600 [==============================] - 59s - loss: 14.5447 - acc: 0.0976 - val_loss: 14.4833 - val_acc: 0.1014\n",
      "Epoch 3/500\n",
      "33600/33600 [==============================] - 58s - loss: 14.5447 - acc: 0.0976 - val_loss: 14.4833 - val_acc: 0.1014\n",
      "Epoch 4/500\n",
      "33600/33600 [==============================] - 60s - loss: 14.5447 - acc: 0.0976 - val_loss: 14.4833 - val_acc: 0.1014\n",
      "Epoch 5/500\n",
      "33600/33600 [==============================] - 62s - loss: 14.5447 - acc: 0.0976 - val_loss: 14.4833 - val_acc: 0.1014\n",
      "Epoch 6/500\n",
      "33600/33600 [==============================] - 62s - loss: 14.5447 - acc: 0.0976 - val_loss: 14.4833 - val_acc: 0.1014\n",
      "Epoch 7/500\n",
      "33600/33600 [==============================] - 61s - loss: 14.5447 - acc: 0.0976 - val_loss: 14.4833 - val_acc: 0.1014\n",
      "Epoch 8/500\n",
      "33600/33600 [==============================] - 61s - loss: 14.5447 - acc: 0.0976 - val_loss: 14.4833 - val_acc: 0.1014\n",
      "Epoch 9/500\n",
      "33600/33600 [==============================] - 61s - loss: 14.5447 - acc: 0.0976 - val_loss: 14.4833 - val_acc: 0.1014\n",
      "Epoch 10/500\n",
      "33600/33600 [==============================] - 61s - loss: 14.5447 - acc: 0.0976 - val_loss: 14.4833 - val_acc: 0.1014\n",
      "Epoch 11/500\n",
      "33600/33600 [==============================] - 62s - loss: 14.5447 - acc: 0.0976 - val_loss: 14.4833 - val_acc: 0.1014\n",
      "Epoch 12/500\n",
      "33600/33600 [==============================] - 60s - loss: 14.5447 - acc: 0.0976 - val_loss: 14.4833 - val_acc: 0.1014\n",
      "Epoch 13/500\n",
      "33600/33600 [==============================] - 60s - loss: 14.5447 - acc: 0.0976 - val_loss: 14.4833 - val_acc: 0.1014\n",
      "Epoch 14/500\n",
      "33600/33600 [==============================] - 61s - loss: 14.5447 - acc: 0.0976 - val_loss: 14.4833 - val_acc: 0.1014\n",
      "Epoch 15/500\n",
      "33600/33600 [==============================] - 61s - loss: 14.5447 - acc: 0.0976 - val_loss: 14.4833 - val_acc: 0.1014\n",
      "Epoch 16/500\n",
      "33600/33600 [==============================] - 61s - loss: 14.5447 - acc: 0.0976 - val_loss: 14.4833 - val_acc: 0.1014\n",
      "Epoch 17/500\n",
      "33600/33600 [==============================] - 61s - loss: 14.5447 - acc: 0.0976 - val_loss: 14.4833 - val_acc: 0.1014\n",
      "Epoch 18/500\n",
      "33600/33600 [==============================] - 60s - loss: 14.5447 - acc: 0.0976 - val_loss: 14.4833 - val_acc: 0.1014\n",
      "Epoch 19/500\n",
      "33600/33600 [==============================] - 61s - loss: 14.5447 - acc: 0.0976 - val_loss: 14.4833 - val_acc: 0.1014\n",
      "Epoch 20/500\n",
      "33600/33600 [==============================] - 61s - loss: 14.5447 - acc: 0.0976 - val_loss: 14.4833 - val_acc: 0.1014\n",
      "Epoch 21/500\n",
      "33600/33600 [==============================] - 62s - loss: 14.5447 - acc: 0.0976 - val_loss: 14.4833 - val_acc: 0.1014\n",
      "Epoch 22/500\n",
      "33600/33600 [==============================] - 60s - loss: 14.5447 - acc: 0.0976 - val_loss: 14.4833 - val_acc: 0.1014\n",
      "Epoch 23/500\n",
      "33600/33600 [==============================] - 63s - loss: 14.5447 - acc: 0.0976 - val_loss: 14.4833 - val_acc: 0.1014\n",
      "Epoch 24/500\n",
      "33600/33600 [==============================] - 67s - loss: 14.5447 - acc: 0.0976 - val_loss: 14.4833 - val_acc: 0.1014\n",
      "Epoch 25/500\n",
      "33600/33600 [==============================] - 61s - loss: 14.5447 - acc: 0.0976 - val_loss: 14.4833 - val_acc: 0.1014\n",
      "Epoch 26/500\n",
      "33600/33600 [==============================] - 61s - loss: 14.5447 - acc: 0.0976 - val_loss: 14.4833 - val_acc: 0.1014\n",
      "Epoch 27/500\n",
      "33600/33600 [==============================] - 60s - loss: 14.5447 - acc: 0.0976 - val_loss: 14.4833 - val_acc: 0.1014\n",
      "Epoch 28/500\n",
      "33600/33600 [==============================] - 61s - loss: 14.5447 - acc: 0.0976 - val_loss: 14.4833 - val_acc: 0.1014\n",
      "Epoch 29/500\n",
      "33600/33600 [==============================] - 61s - loss: 14.5447 - acc: 0.0976 - val_loss: 14.4833 - val_acc: 0.1014\n",
      "Epoch 30/500\n",
      "33600/33600 [==============================] - 61s - loss: 14.5447 - acc: 0.0976 - val_loss: 14.4833 - val_acc: 0.1014\n",
      "Epoch 31/500\n",
      "33600/33600 [==============================] - 63s - loss: 14.5447 - acc: 0.0976 - val_loss: 14.4833 - val_acc: 0.1014\n",
      "Epoch 32/500\n",
      "33600/33600 [==============================] - 60s - loss: 14.5447 - acc: 0.0976 - val_loss: 14.4833 - val_acc: 0.1014\n",
      "Epoch 33/500\n",
      "33600/33600 [==============================] - 59s - loss: 14.5447 - acc: 0.0976 - val_loss: 14.4833 - val_acc: 0.1014\n",
      "Epoch 34/500\n",
      "33600/33600 [==============================] - 60s - loss: 14.5447 - acc: 0.0976 - val_loss: 14.4833 - val_acc: 0.1014\n",
      "Epoch 35/500\n",
      "33600/33600 [==============================] - 59s - loss: 14.5447 - acc: 0.0976 - val_loss: 14.4833 - val_acc: 0.1014\n",
      "Epoch 36/500\n",
      "33600/33600 [==============================] - 41s - loss: 14.5447 - acc: 0.0976 - val_loss: 14.4833 - val_acc: 0.1014\n",
      "Epoch 37/500\n",
      "33600/33600 [==============================] - 40s - loss: 14.5447 - acc: 0.0976 - val_loss: 14.4833 - val_acc: 0.1014\n",
      "Epoch 38/500\n",
      "33600/33600 [==============================] - 40s - loss: 14.5447 - acc: 0.0976 - val_loss: 14.4833 - val_acc: 0.1014\n",
      "Epoch 39/500\n",
      "33600/33600 [==============================] - 42s - loss: 14.5447 - acc: 0.0976 - val_loss: 14.4833 - val_acc: 0.1014\n",
      "Epoch 40/500\n",
      "33600/33600 [==============================] - 42s - loss: 14.5447 - acc: 0.0976 - val_loss: 14.4833 - val_acc: 0.1014\n",
      "Epoch 41/500\n",
      "33600/33600 [==============================] - 40s - loss: 14.5447 - acc: 0.0976 - val_loss: 14.4833 - val_acc: 0.1014\n",
      "Epoch 42/500\n",
      "33600/33600 [==============================] - 40s - loss: 14.5447 - acc: 0.0976 - val_loss: 14.4833 - val_acc: 0.1014\n",
      "Epoch 43/500\n",
      "33600/33600 [==============================] - 49s - loss: 14.5447 - acc: 0.0976 - val_loss: 14.4833 - val_acc: 0.1014\n",
      "Epoch 44/500\n",
      "25440/33600 [=====================>........] - ETA: 15s - loss: 14.5202 - acc: 0.0991"
     ]
    },
    {
     "ename": "KeyboardInterrupt",
     "evalue": "",
     "output_type": "error",
     "traceback": [
      "\u001b[1;31m---------------------------------------------------------------------------\u001b[0m",
      "\u001b[1;31mKeyboardInterrupt\u001b[0m                         Traceback (most recent call last)",
      "\u001b[1;32m<ipython-input-10-07dc5b5d1b76>\u001b[0m in \u001b[0;36m<module>\u001b[1;34m()\u001b[0m\n\u001b[0;32m     10\u001b[0m \u001b[1;33m\u001b[0m\u001b[0m\n\u001b[0;32m     11\u001b[0m \u001b[1;31m# \"verbose\" is to print the result,  \"epoch\" is training frequency\u001b[0m\u001b[1;33m\u001b[0m\u001b[1;33m\u001b[0m\u001b[0m\n\u001b[1;32m---> 12\u001b[1;33m \u001b[0mhistory\u001b[0m \u001b[1;33m=\u001b[0m \u001b[0mmodel\u001b[0m\u001b[1;33m.\u001b[0m\u001b[0mfit\u001b[0m\u001b[1;33m(\u001b[0m\u001b[0mtrain_x\u001b[0m\u001b[1;33m,\u001b[0m \u001b[0mtrain_y\u001b[0m\u001b[1;33m,\u001b[0m \u001b[0mepochs\u001b[0m\u001b[1;33m=\u001b[0m\u001b[1;36m500\u001b[0m\u001b[1;33m,\u001b[0m  \u001b[0mverbose\u001b[0m\u001b[1;33m=\u001b[0m\u001b[1;36m1\u001b[0m\u001b[1;33m,\u001b[0m \u001b[0mvalidation_split\u001b[0m\u001b[1;33m=\u001b[0m \u001b[1;36m0.2\u001b[0m\u001b[1;33m)\u001b[0m\u001b[1;33m\u001b[0m\u001b[0m\n\u001b[0m\u001b[0;32m     13\u001b[0m \u001b[1;33m\u001b[0m\u001b[0m\n\u001b[0;32m     14\u001b[0m \u001b[1;33m\u001b[0m\u001b[0m\n",
      "\u001b[1;32mD:\\Anaconda3\\envs\\envtf\\lib\\site-packages\\keras\\models.py\u001b[0m in \u001b[0;36mfit\u001b[1;34m(self, x, y, batch_size, epochs, verbose, callbacks, validation_split, validation_data, shuffle, class_weight, sample_weight, initial_epoch, **kwargs)\u001b[0m\n\u001b[0;32m    861\u001b[0m                               \u001b[0mclass_weight\u001b[0m\u001b[1;33m=\u001b[0m\u001b[0mclass_weight\u001b[0m\u001b[1;33m,\u001b[0m\u001b[1;33m\u001b[0m\u001b[0m\n\u001b[0;32m    862\u001b[0m                               \u001b[0msample_weight\u001b[0m\u001b[1;33m=\u001b[0m\u001b[0msample_weight\u001b[0m\u001b[1;33m,\u001b[0m\u001b[1;33m\u001b[0m\u001b[0m\n\u001b[1;32m--> 863\u001b[1;33m                               initial_epoch=initial_epoch)\n\u001b[0m\u001b[0;32m    864\u001b[0m \u001b[1;33m\u001b[0m\u001b[0m\n\u001b[0;32m    865\u001b[0m     def evaluate(self, x, y, batch_size=32, verbose=1,\n",
      "\u001b[1;32mD:\\Anaconda3\\envs\\envtf\\lib\\site-packages\\keras\\engine\\training.py\u001b[0m in \u001b[0;36mfit\u001b[1;34m(self, x, y, batch_size, epochs, verbose, callbacks, validation_split, validation_data, shuffle, class_weight, sample_weight, initial_epoch, **kwargs)\u001b[0m\n\u001b[0;32m   1428\u001b[0m                               \u001b[0mval_f\u001b[0m\u001b[1;33m=\u001b[0m\u001b[0mval_f\u001b[0m\u001b[1;33m,\u001b[0m \u001b[0mval_ins\u001b[0m\u001b[1;33m=\u001b[0m\u001b[0mval_ins\u001b[0m\u001b[1;33m,\u001b[0m \u001b[0mshuffle\u001b[0m\u001b[1;33m=\u001b[0m\u001b[0mshuffle\u001b[0m\u001b[1;33m,\u001b[0m\u001b[1;33m\u001b[0m\u001b[0m\n\u001b[0;32m   1429\u001b[0m                               \u001b[0mcallback_metrics\u001b[0m\u001b[1;33m=\u001b[0m\u001b[0mcallback_metrics\u001b[0m\u001b[1;33m,\u001b[0m\u001b[1;33m\u001b[0m\u001b[0m\n\u001b[1;32m-> 1430\u001b[1;33m                               initial_epoch=initial_epoch)\n\u001b[0m\u001b[0;32m   1431\u001b[0m \u001b[1;33m\u001b[0m\u001b[0m\n\u001b[0;32m   1432\u001b[0m     \u001b[1;32mdef\u001b[0m \u001b[0mevaluate\u001b[0m\u001b[1;33m(\u001b[0m\u001b[0mself\u001b[0m\u001b[1;33m,\u001b[0m \u001b[0mx\u001b[0m\u001b[1;33m,\u001b[0m \u001b[0my\u001b[0m\u001b[1;33m,\u001b[0m \u001b[0mbatch_size\u001b[0m\u001b[1;33m=\u001b[0m\u001b[1;36m32\u001b[0m\u001b[1;33m,\u001b[0m \u001b[0mverbose\u001b[0m\u001b[1;33m=\u001b[0m\u001b[1;36m1\u001b[0m\u001b[1;33m,\u001b[0m \u001b[0msample_weight\u001b[0m\u001b[1;33m=\u001b[0m\u001b[1;32mNone\u001b[0m\u001b[1;33m)\u001b[0m\u001b[1;33m:\u001b[0m\u001b[1;33m\u001b[0m\u001b[0m\n",
      "\u001b[1;32mD:\\Anaconda3\\envs\\envtf\\lib\\site-packages\\keras\\engine\\training.py\u001b[0m in \u001b[0;36m_fit_loop\u001b[1;34m(self, f, ins, out_labels, batch_size, epochs, verbose, callbacks, val_f, val_ins, shuffle, callback_metrics, initial_epoch)\u001b[0m\n\u001b[0;32m   1077\u001b[0m                 \u001b[0mbatch_logs\u001b[0m\u001b[1;33m[\u001b[0m\u001b[1;34m'size'\u001b[0m\u001b[1;33m]\u001b[0m \u001b[1;33m=\u001b[0m \u001b[0mlen\u001b[0m\u001b[1;33m(\u001b[0m\u001b[0mbatch_ids\u001b[0m\u001b[1;33m)\u001b[0m\u001b[1;33m\u001b[0m\u001b[0m\n\u001b[0;32m   1078\u001b[0m                 \u001b[0mcallbacks\u001b[0m\u001b[1;33m.\u001b[0m\u001b[0mon_batch_begin\u001b[0m\u001b[1;33m(\u001b[0m\u001b[0mbatch_index\u001b[0m\u001b[1;33m,\u001b[0m \u001b[0mbatch_logs\u001b[0m\u001b[1;33m)\u001b[0m\u001b[1;33m\u001b[0m\u001b[0m\n\u001b[1;32m-> 1079\u001b[1;33m                 \u001b[0mouts\u001b[0m \u001b[1;33m=\u001b[0m \u001b[0mf\u001b[0m\u001b[1;33m(\u001b[0m\u001b[0mins_batch\u001b[0m\u001b[1;33m)\u001b[0m\u001b[1;33m\u001b[0m\u001b[0m\n\u001b[0m\u001b[0;32m   1080\u001b[0m                 \u001b[1;32mif\u001b[0m \u001b[1;32mnot\u001b[0m \u001b[0misinstance\u001b[0m\u001b[1;33m(\u001b[0m\u001b[0mouts\u001b[0m\u001b[1;33m,\u001b[0m \u001b[0mlist\u001b[0m\u001b[1;33m)\u001b[0m\u001b[1;33m:\u001b[0m\u001b[1;33m\u001b[0m\u001b[0m\n\u001b[0;32m   1081\u001b[0m                     \u001b[0mouts\u001b[0m \u001b[1;33m=\u001b[0m \u001b[1;33m[\u001b[0m\u001b[0mouts\u001b[0m\u001b[1;33m]\u001b[0m\u001b[1;33m\u001b[0m\u001b[0m\n",
      "\u001b[1;32mD:\\Anaconda3\\envs\\envtf\\lib\\site-packages\\keras\\backend\\tensorflow_backend.py\u001b[0m in \u001b[0;36m__call__\u001b[1;34m(self, inputs)\u001b[0m\n\u001b[0;32m   2266\u001b[0m         updated = session.run(self.outputs + [self.updates_op],\n\u001b[0;32m   2267\u001b[0m                               \u001b[0mfeed_dict\u001b[0m\u001b[1;33m=\u001b[0m\u001b[0mfeed_dict\u001b[0m\u001b[1;33m,\u001b[0m\u001b[1;33m\u001b[0m\u001b[0m\n\u001b[1;32m-> 2268\u001b[1;33m                               **self.session_kwargs)\n\u001b[0m\u001b[0;32m   2269\u001b[0m         \u001b[1;32mreturn\u001b[0m \u001b[0mupdated\u001b[0m\u001b[1;33m[\u001b[0m\u001b[1;33m:\u001b[0m\u001b[0mlen\u001b[0m\u001b[1;33m(\u001b[0m\u001b[0mself\u001b[0m\u001b[1;33m.\u001b[0m\u001b[0moutputs\u001b[0m\u001b[1;33m)\u001b[0m\u001b[1;33m]\u001b[0m\u001b[1;33m\u001b[0m\u001b[0m\n\u001b[0;32m   2270\u001b[0m \u001b[1;33m\u001b[0m\u001b[0m\n",
      "\u001b[1;32mD:\\Anaconda3\\envs\\envtf\\lib\\site-packages\\tensorflow\\python\\client\\session.py\u001b[0m in \u001b[0;36mrun\u001b[1;34m(self, fetches, feed_dict, options, run_metadata)\u001b[0m\n\u001b[0;32m    765\u001b[0m     \u001b[1;32mtry\u001b[0m\u001b[1;33m:\u001b[0m\u001b[1;33m\u001b[0m\u001b[0m\n\u001b[0;32m    766\u001b[0m       result = self._run(None, fetches, feed_dict, options_ptr,\n\u001b[1;32m--> 767\u001b[1;33m                          run_metadata_ptr)\n\u001b[0m\u001b[0;32m    768\u001b[0m       \u001b[1;32mif\u001b[0m \u001b[0mrun_metadata\u001b[0m\u001b[1;33m:\u001b[0m\u001b[1;33m\u001b[0m\u001b[0m\n\u001b[0;32m    769\u001b[0m         \u001b[0mproto_data\u001b[0m \u001b[1;33m=\u001b[0m \u001b[0mtf_session\u001b[0m\u001b[1;33m.\u001b[0m\u001b[0mTF_GetBuffer\u001b[0m\u001b[1;33m(\u001b[0m\u001b[0mrun_metadata_ptr\u001b[0m\u001b[1;33m)\u001b[0m\u001b[1;33m\u001b[0m\u001b[0m\n",
      "\u001b[1;32mD:\\Anaconda3\\envs\\envtf\\lib\\site-packages\\tensorflow\\python\\client\\session.py\u001b[0m in \u001b[0;36m_run\u001b[1;34m(self, handle, fetches, feed_dict, options, run_metadata)\u001b[0m\n\u001b[0;32m    963\u001b[0m     \u001b[1;32mif\u001b[0m \u001b[0mfinal_fetches\u001b[0m \u001b[1;32mor\u001b[0m \u001b[0mfinal_targets\u001b[0m\u001b[1;33m:\u001b[0m\u001b[1;33m\u001b[0m\u001b[0m\n\u001b[0;32m    964\u001b[0m       results = self._do_run(handle, final_targets, final_fetches,\n\u001b[1;32m--> 965\u001b[1;33m                              feed_dict_string, options, run_metadata)\n\u001b[0m\u001b[0;32m    966\u001b[0m     \u001b[1;32melse\u001b[0m\u001b[1;33m:\u001b[0m\u001b[1;33m\u001b[0m\u001b[0m\n\u001b[0;32m    967\u001b[0m       \u001b[0mresults\u001b[0m \u001b[1;33m=\u001b[0m \u001b[1;33m[\u001b[0m\u001b[1;33m]\u001b[0m\u001b[1;33m\u001b[0m\u001b[0m\n",
      "\u001b[1;32mD:\\Anaconda3\\envs\\envtf\\lib\\site-packages\\tensorflow\\python\\client\\session.py\u001b[0m in \u001b[0;36m_do_run\u001b[1;34m(self, handle, target_list, fetch_list, feed_dict, options, run_metadata)\u001b[0m\n\u001b[0;32m   1013\u001b[0m     \u001b[1;32mif\u001b[0m \u001b[0mhandle\u001b[0m \u001b[1;32mis\u001b[0m \u001b[1;32mNone\u001b[0m\u001b[1;33m:\u001b[0m\u001b[1;33m\u001b[0m\u001b[0m\n\u001b[0;32m   1014\u001b[0m       return self._do_call(_run_fn, self._session, feed_dict, fetch_list,\n\u001b[1;32m-> 1015\u001b[1;33m                            target_list, options, run_metadata)\n\u001b[0m\u001b[0;32m   1016\u001b[0m     \u001b[1;32melse\u001b[0m\u001b[1;33m:\u001b[0m\u001b[1;33m\u001b[0m\u001b[0m\n\u001b[0;32m   1017\u001b[0m       return self._do_call(_prun_fn, self._session, handle, feed_dict,\n",
      "\u001b[1;32mD:\\Anaconda3\\envs\\envtf\\lib\\site-packages\\tensorflow\\python\\client\\session.py\u001b[0m in \u001b[0;36m_do_call\u001b[1;34m(self, fn, *args)\u001b[0m\n\u001b[0;32m   1020\u001b[0m   \u001b[1;32mdef\u001b[0m \u001b[0m_do_call\u001b[0m\u001b[1;33m(\u001b[0m\u001b[0mself\u001b[0m\u001b[1;33m,\u001b[0m \u001b[0mfn\u001b[0m\u001b[1;33m,\u001b[0m \u001b[1;33m*\u001b[0m\u001b[0margs\u001b[0m\u001b[1;33m)\u001b[0m\u001b[1;33m:\u001b[0m\u001b[1;33m\u001b[0m\u001b[0m\n\u001b[0;32m   1021\u001b[0m     \u001b[1;32mtry\u001b[0m\u001b[1;33m:\u001b[0m\u001b[1;33m\u001b[0m\u001b[0m\n\u001b[1;32m-> 1022\u001b[1;33m       \u001b[1;32mreturn\u001b[0m \u001b[0mfn\u001b[0m\u001b[1;33m(\u001b[0m\u001b[1;33m*\u001b[0m\u001b[0margs\u001b[0m\u001b[1;33m)\u001b[0m\u001b[1;33m\u001b[0m\u001b[0m\n\u001b[0m\u001b[0;32m   1023\u001b[0m     \u001b[1;32mexcept\u001b[0m \u001b[0merrors\u001b[0m\u001b[1;33m.\u001b[0m\u001b[0mOpError\u001b[0m \u001b[1;32mas\u001b[0m \u001b[0me\u001b[0m\u001b[1;33m:\u001b[0m\u001b[1;33m\u001b[0m\u001b[0m\n\u001b[0;32m   1024\u001b[0m       \u001b[0mmessage\u001b[0m \u001b[1;33m=\u001b[0m \u001b[0mcompat\u001b[0m\u001b[1;33m.\u001b[0m\u001b[0mas_text\u001b[0m\u001b[1;33m(\u001b[0m\u001b[0me\u001b[0m\u001b[1;33m.\u001b[0m\u001b[0mmessage\u001b[0m\u001b[1;33m)\u001b[0m\u001b[1;33m\u001b[0m\u001b[0m\n",
      "\u001b[1;32mD:\\Anaconda3\\envs\\envtf\\lib\\site-packages\\tensorflow\\python\\client\\session.py\u001b[0m in \u001b[0;36m_run_fn\u001b[1;34m(session, feed_dict, fetch_list, target_list, options, run_metadata)\u001b[0m\n\u001b[0;32m   1002\u001b[0m         return tf_session.TF_Run(session, options,\n\u001b[0;32m   1003\u001b[0m                                  \u001b[0mfeed_dict\u001b[0m\u001b[1;33m,\u001b[0m \u001b[0mfetch_list\u001b[0m\u001b[1;33m,\u001b[0m \u001b[0mtarget_list\u001b[0m\u001b[1;33m,\u001b[0m\u001b[1;33m\u001b[0m\u001b[0m\n\u001b[1;32m-> 1004\u001b[1;33m                                  status, run_metadata)\n\u001b[0m\u001b[0;32m   1005\u001b[0m \u001b[1;33m\u001b[0m\u001b[0m\n\u001b[0;32m   1006\u001b[0m     \u001b[1;32mdef\u001b[0m \u001b[0m_prun_fn\u001b[0m\u001b[1;33m(\u001b[0m\u001b[0msession\u001b[0m\u001b[1;33m,\u001b[0m \u001b[0mhandle\u001b[0m\u001b[1;33m,\u001b[0m \u001b[0mfeed_dict\u001b[0m\u001b[1;33m,\u001b[0m \u001b[0mfetch_list\u001b[0m\u001b[1;33m)\u001b[0m\u001b[1;33m:\u001b[0m\u001b[1;33m\u001b[0m\u001b[0m\n",
      "\u001b[1;31mKeyboardInterrupt\u001b[0m: "
     ]
    }
   ],
   "source": [
    "from keras.utils import np_utils\n",
    "\n",
    "dataset = pd.read_csv(\"train.csv\")\n",
    "target = dataset.iloc[:,0].values.ravel()\n",
    "train = dataset.iloc[:,1:].values\n",
    "test = pd.read_csv(\"test.csv\").values\n",
    "\n",
    "train_x = train\n",
    "train_y = np_utils.to_categorical(target, 10) # cnvert into one-hot-encoder\n",
    "\n",
    "# \"verbose\" is to print the result,  \"epoch\" is training frequency\n",
    "history = model.fit(train_x, train_y, epochs=500,  verbose=1, validation_split= 0.2) \n",
    "\n",
    "\n",
    "print (history.history['acc'])\n",
    "print (history.history['loss'])"
   ]
  },
  {
   "cell_type": "markdown",
   "metadata": {},
   "source": [
    "# 3. Draw a graph"
   ]
  },
  {
   "cell_type": "code",
   "execution_count": null,
   "metadata": {},
   "outputs": [],
   "source": [
    "%matplotlib inline\n",
    "\n",
    "import matplotlib\n",
    "import matplotlib.pyplot as plt\n",
    "\n",
    "\n",
    "plt.xlabel('x')\n",
    "plt.ylabel('y')\n",
    "plt.title('acc graph')\n",
    "\n",
    "plt.plot(range(len(history.history['val_acc'])), history.history['val_acc'])\n",
    "\n",
    "plt.show()"
   ]
  },
  {
   "cell_type": "markdown",
   "metadata": {},
   "source": [
    "# 4. Persist the model"
   ]
  },
  {
   "cell_type": "code",
   "execution_count": 8,
   "metadata": {
    "collapsed": true
   },
   "outputs": [],
   "source": [
    "import h5py\n",
    "from keras.models import load_model\n",
    "\n",
    "model.save('model.h5') # 模型持久化\n",
    "\n",
    "model2 = load_model('model.h5') # load the model"
   ]
  },
  {
   "cell_type": "markdown",
   "metadata": {},
   "source": [
    "# 5. Validate"
   ]
  },
  {
   "cell_type": "code",
   "execution_count": 9,
   "metadata": {},
   "outputs": [
    {
     "name": "stdout",
     "output_type": "stream",
     "text": [
      "Finished, all matched\n"
     ]
    }
   ],
   "source": [
    "y_pred2 = model2.predict(train_x)\n",
    "\n",
    "y_pred1 = model.predict(train_x)\n",
    "\n",
    "#y_pred1 == y_pred2 # compare the difference, no different\n",
    "\n",
    "for index, item in enumerate(y_pred2):\n",
    "    for i, it in enumerate(item):\n",
    "        if (item[i] != y_pred1[index][i]):\n",
    "            print (False)\n",
    "\n",
    "\n",
    "print (\"Finished, all matched\")"
   ]
  },
  {
   "cell_type": "code",
   "execution_count": 10,
   "metadata": {},
   "outputs": [
    {
     "data": {
      "text/plain": [
       "1"
      ]
     },
     "execution_count": 10,
     "metadata": {},
     "output_type": "execute_result"
    }
   ],
   "source": [
    "import numpy as np\n",
    "\n",
    "# restore one-hot to the original format\n",
    "np.argmax(y_pred1[1500], axis=0)  # revert one-hot back to normal digit"
   ]
  },
  {
   "cell_type": "code",
   "execution_count": 6,
   "metadata": {
    "collapsed": true
   },
   "outputs": [],
   "source": [
    "from keras.utils import plot_model\n",
    "plot_model(model, to_file='model.png')"
   ]
  },
  {
   "cell_type": "code",
   "execution_count": 11,
   "metadata": {},
   "outputs": [
    {
     "data": {
      "image/svg+xml": [
       "<svg height=\"921pt\" viewBox=\"0.00 0.00 174.00 921.00\" width=\"174pt\" xmlns=\"http://www.w3.org/2000/svg\" xmlns:xlink=\"http://www.w3.org/1999/xlink\">\n",
       "<g class=\"graph\" id=\"graph0\" transform=\"scale(1 1) rotate(0) translate(4 917)\">\n",
       "<title>G</title>\n",
       "<polygon fill=\"white\" points=\"-4,4 -4,-917 170,-917 170,4 -4,4\" stroke=\"none\"/>\n",
       "<!-- 1649928314552 -->\n",
       "<g class=\"node\" id=\"node1\"><title>1649928314552</title>\n",
       "<polygon fill=\"none\" points=\"0,-876.5 0,-912.5 166,-912.5 166,-876.5 0,-876.5\" stroke=\"black\"/>\n",
       "<text font-family=\"Times New Roman,serif\" font-size=\"14.00\" text-anchor=\"middle\" x=\"83\" y=\"-890.8\">dense_1_input: InputLayer</text>\n",
       "</g>\n",
       "<!-- 1649928313880 -->\n",
       "<g class=\"node\" id=\"node2\"><title>1649928313880</title>\n",
       "<polygon fill=\"none\" points=\"31,-803.5 31,-839.5 135,-839.5 135,-803.5 31,-803.5\" stroke=\"black\"/>\n",
       "<text font-family=\"Times New Roman,serif\" font-size=\"14.00\" text-anchor=\"middle\" x=\"83\" y=\"-817.8\">dense_1: Dense</text>\n",
       "</g>\n",
       "<!-- 1649928314552&#45;&gt;1649928313880 -->\n",
       "<g class=\"edge\" id=\"edge1\"><title>1649928314552-&gt;1649928313880</title>\n",
       "<path d=\"M83,-876.313C83,-868.289 83,-858.547 83,-849.569\" fill=\"none\" stroke=\"black\"/>\n",
       "<polygon fill=\"black\" points=\"86.5001,-849.529 83,-839.529 79.5001,-849.529 86.5001,-849.529\" stroke=\"black\"/>\n",
       "</g>\n",
       "<!-- 1649928314160 -->\n",
       "<g class=\"node\" id=\"node3\"><title>1649928314160</title>\n",
       "<polygon fill=\"none\" points=\"9,-730.5 9,-766.5 157,-766.5 157,-730.5 9,-730.5\" stroke=\"black\"/>\n",
       "<text font-family=\"Times New Roman,serif\" font-size=\"14.00\" text-anchor=\"middle\" x=\"83\" y=\"-744.8\">activation_1: Activation</text>\n",
       "</g>\n",
       "<!-- 1649928313880&#45;&gt;1649928314160 -->\n",
       "<g class=\"edge\" id=\"edge2\"><title>1649928313880-&gt;1649928314160</title>\n",
       "<path d=\"M83,-803.313C83,-795.289 83,-785.547 83,-776.569\" fill=\"none\" stroke=\"black\"/>\n",
       "<polygon fill=\"black\" points=\"86.5001,-776.529 83,-766.529 79.5001,-776.529 86.5001,-776.529\" stroke=\"black\"/>\n",
       "</g>\n",
       "<!-- 1649836850984 -->\n",
       "<g class=\"node\" id=\"node4\"><title>1649836850984</title>\n",
       "<polygon fill=\"none\" points=\"31,-657.5 31,-693.5 135,-693.5 135,-657.5 31,-657.5\" stroke=\"black\"/>\n",
       "<text font-family=\"Times New Roman,serif\" font-size=\"14.00\" text-anchor=\"middle\" x=\"83\" y=\"-671.8\">dense_2: Dense</text>\n",
       "</g>\n",
       "<!-- 1649928314160&#45;&gt;1649836850984 -->\n",
       "<g class=\"edge\" id=\"edge3\"><title>1649928314160-&gt;1649836850984</title>\n",
       "<path d=\"M83,-730.313C83,-722.289 83,-712.547 83,-703.569\" fill=\"none\" stroke=\"black\"/>\n",
       "<polygon fill=\"black\" points=\"86.5001,-703.529 83,-693.529 79.5001,-703.529 86.5001,-703.529\" stroke=\"black\"/>\n",
       "</g>\n",
       "<!-- 1649928623720 -->\n",
       "<g class=\"node\" id=\"node5\"><title>1649928623720</title>\n",
       "<polygon fill=\"none\" points=\"9,-584.5 9,-620.5 157,-620.5 157,-584.5 9,-584.5\" stroke=\"black\"/>\n",
       "<text font-family=\"Times New Roman,serif\" font-size=\"14.00\" text-anchor=\"middle\" x=\"83\" y=\"-598.8\">activation_2: Activation</text>\n",
       "</g>\n",
       "<!-- 1649836850984&#45;&gt;1649928623720 -->\n",
       "<g class=\"edge\" id=\"edge4\"><title>1649836850984-&gt;1649928623720</title>\n",
       "<path d=\"M83,-657.313C83,-649.289 83,-639.547 83,-630.569\" fill=\"none\" stroke=\"black\"/>\n",
       "<polygon fill=\"black\" points=\"86.5001,-630.529 83,-620.529 79.5001,-630.529 86.5001,-630.529\" stroke=\"black\"/>\n",
       "</g>\n",
       "<!-- 1649928575688 -->\n",
       "<g class=\"node\" id=\"node6\"><title>1649928575688</title>\n",
       "<polygon fill=\"none\" points=\"31,-511.5 31,-547.5 135,-547.5 135,-511.5 31,-511.5\" stroke=\"black\"/>\n",
       "<text font-family=\"Times New Roman,serif\" font-size=\"14.00\" text-anchor=\"middle\" x=\"83\" y=\"-525.8\">dense_3: Dense</text>\n",
       "</g>\n",
       "<!-- 1649928623720&#45;&gt;1649928575688 -->\n",
       "<g class=\"edge\" id=\"edge5\"><title>1649928623720-&gt;1649928575688</title>\n",
       "<path d=\"M83,-584.313C83,-576.289 83,-566.547 83,-557.569\" fill=\"none\" stroke=\"black\"/>\n",
       "<polygon fill=\"black\" points=\"86.5001,-557.529 83,-547.529 79.5001,-557.529 86.5001,-557.529\" stroke=\"black\"/>\n",
       "</g>\n",
       "<!-- 1649928573616 -->\n",
       "<g class=\"node\" id=\"node7\"><title>1649928573616</title>\n",
       "<polygon fill=\"none\" points=\"9,-438.5 9,-474.5 157,-474.5 157,-438.5 9,-438.5\" stroke=\"black\"/>\n",
       "<text font-family=\"Times New Roman,serif\" font-size=\"14.00\" text-anchor=\"middle\" x=\"83\" y=\"-452.8\">activation_3: Activation</text>\n",
       "</g>\n",
       "<!-- 1649928575688&#45;&gt;1649928573616 -->\n",
       "<g class=\"edge\" id=\"edge6\"><title>1649928575688-&gt;1649928573616</title>\n",
       "<path d=\"M83,-511.313C83,-503.289 83,-493.547 83,-484.569\" fill=\"none\" stroke=\"black\"/>\n",
       "<polygon fill=\"black\" points=\"86.5001,-484.529 83,-474.529 79.5001,-484.529 86.5001,-484.529\" stroke=\"black\"/>\n",
       "</g>\n",
       "<!-- 1649928678144 -->\n",
       "<g class=\"node\" id=\"node8\"><title>1649928678144</title>\n",
       "<polygon fill=\"none\" points=\"31,-365.5 31,-401.5 135,-401.5 135,-365.5 31,-365.5\" stroke=\"black\"/>\n",
       "<text font-family=\"Times New Roman,serif\" font-size=\"14.00\" text-anchor=\"middle\" x=\"83\" y=\"-379.8\">dense_4: Dense</text>\n",
       "</g>\n",
       "<!-- 1649928573616&#45;&gt;1649928678144 -->\n",
       "<g class=\"edge\" id=\"edge7\"><title>1649928573616-&gt;1649928678144</title>\n",
       "<path d=\"M83,-438.313C83,-430.289 83,-420.547 83,-411.569\" fill=\"none\" stroke=\"black\"/>\n",
       "<polygon fill=\"black\" points=\"86.5001,-411.529 83,-401.529 79.5001,-411.529 86.5001,-411.529\" stroke=\"black\"/>\n",
       "</g>\n",
       "<!-- 1649928679040 -->\n",
       "<g class=\"node\" id=\"node9\"><title>1649928679040</title>\n",
       "<polygon fill=\"none\" points=\"9,-292.5 9,-328.5 157,-328.5 157,-292.5 9,-292.5\" stroke=\"black\"/>\n",
       "<text font-family=\"Times New Roman,serif\" font-size=\"14.00\" text-anchor=\"middle\" x=\"83\" y=\"-306.8\">activation_4: Activation</text>\n",
       "</g>\n",
       "<!-- 1649928678144&#45;&gt;1649928679040 -->\n",
       "<g class=\"edge\" id=\"edge8\"><title>1649928678144-&gt;1649928679040</title>\n",
       "<path d=\"M83,-365.313C83,-357.289 83,-347.547 83,-338.569\" fill=\"none\" stroke=\"black\"/>\n",
       "<polygon fill=\"black\" points=\"86.5001,-338.529 83,-328.529 79.5001,-338.529 86.5001,-338.529\" stroke=\"black\"/>\n",
       "</g>\n",
       "<!-- 1649928835592 -->\n",
       "<g class=\"node\" id=\"node10\"><title>1649928835592</title>\n",
       "<polygon fill=\"none\" points=\"31,-219.5 31,-255.5 135,-255.5 135,-219.5 31,-219.5\" stroke=\"black\"/>\n",
       "<text font-family=\"Times New Roman,serif\" font-size=\"14.00\" text-anchor=\"middle\" x=\"83\" y=\"-233.8\">dense_5: Dense</text>\n",
       "</g>\n",
       "<!-- 1649928679040&#45;&gt;1649928835592 -->\n",
       "<g class=\"edge\" id=\"edge9\"><title>1649928679040-&gt;1649928835592</title>\n",
       "<path d=\"M83,-292.313C83,-284.289 83,-274.547 83,-265.569\" fill=\"none\" stroke=\"black\"/>\n",
       "<polygon fill=\"black\" points=\"86.5001,-265.529 83,-255.529 79.5001,-265.529 86.5001,-265.529\" stroke=\"black\"/>\n",
       "</g>\n",
       "<!-- 1649928836544 -->\n",
       "<g class=\"node\" id=\"node11\"><title>1649928836544</title>\n",
       "<polygon fill=\"none\" points=\"9,-146.5 9,-182.5 157,-182.5 157,-146.5 9,-146.5\" stroke=\"black\"/>\n",
       "<text font-family=\"Times New Roman,serif\" font-size=\"14.00\" text-anchor=\"middle\" x=\"83\" y=\"-160.8\">activation_5: Activation</text>\n",
       "</g>\n",
       "<!-- 1649928835592&#45;&gt;1649928836544 -->\n",
       "<g class=\"edge\" id=\"edge10\"><title>1649928835592-&gt;1649928836544</title>\n",
       "<path d=\"M83,-219.313C83,-211.289 83,-201.547 83,-192.569\" fill=\"none\" stroke=\"black\"/>\n",
       "<polygon fill=\"black\" points=\"86.5001,-192.529 83,-182.529 79.5001,-192.529 86.5001,-192.529\" stroke=\"black\"/>\n",
       "</g>\n",
       "<!-- 1649928958808 -->\n",
       "<g class=\"node\" id=\"node12\"><title>1649928958808</title>\n",
       "<polygon fill=\"none\" points=\"31,-73.5 31,-109.5 135,-109.5 135,-73.5 31,-73.5\" stroke=\"black\"/>\n",
       "<text font-family=\"Times New Roman,serif\" font-size=\"14.00\" text-anchor=\"middle\" x=\"83\" y=\"-87.8\">dense_6: Dense</text>\n",
       "</g>\n",
       "<!-- 1649928836544&#45;&gt;1649928958808 -->\n",
       "<g class=\"edge\" id=\"edge11\"><title>1649928836544-&gt;1649928958808</title>\n",
       "<path d=\"M83,-146.313C83,-138.289 83,-128.547 83,-119.569\" fill=\"none\" stroke=\"black\"/>\n",
       "<polygon fill=\"black\" points=\"86.5001,-119.529 83,-109.529 79.5001,-119.529 86.5001,-119.529\" stroke=\"black\"/>\n",
       "</g>\n",
       "<!-- 1649928959592 -->\n",
       "<g class=\"node\" id=\"node13\"><title>1649928959592</title>\n",
       "<polygon fill=\"none\" points=\"9,-0.5 9,-36.5 157,-36.5 157,-0.5 9,-0.5\" stroke=\"black\"/>\n",
       "<text font-family=\"Times New Roman,serif\" font-size=\"14.00\" text-anchor=\"middle\" x=\"83\" y=\"-14.8\">activation_6: Activation</text>\n",
       "</g>\n",
       "<!-- 1649928958808&#45;&gt;1649928959592 -->\n",
       "<g class=\"edge\" id=\"edge12\"><title>1649928958808-&gt;1649928959592</title>\n",
       "<path d=\"M83,-73.3129C83,-65.2895 83,-55.5475 83,-46.5691\" fill=\"none\" stroke=\"black\"/>\n",
       "<polygon fill=\"black\" points=\"86.5001,-46.5288 83,-36.5288 79.5001,-46.5289 86.5001,-46.5288\" stroke=\"black\"/>\n",
       "</g>\n",
       "</g>\n",
       "</svg>"
      ],
      "text/plain": [
       "<IPython.core.display.SVG object>"
      ]
     },
     "execution_count": 11,
     "metadata": {},
     "output_type": "execute_result"
    }
   ],
   "source": [
    "from IPython.display import SVG\n",
    "from keras.utils.vis_utils import model_to_dot\n",
    "\n",
    "SVG(model_to_dot(model).create(prog='dot', format='svg'))"
   ]
  },
  {
   "cell_type": "code",
   "execution_count": 6,
   "metadata": {},
   "outputs": [
    {
     "name": "stdout",
     "output_type": "stream",
     "text": [
      "27584/28000 [============================>.] - ETA: 0s"
     ]
    }
   ],
   "source": [
    "y_pred = model.predict_classes(test) ## predict, = predict\n",
    "\n",
    "np.savetxt('neural_5.csv', np.c_[range(1,len(test)+1),y_pred], delimiter=',', \n",
    "           header = 'ImageId,Label', comments = '', fmt='%d')"
   ]
  },
  {
   "cell_type": "code",
   "execution_count": null,
   "metadata": {
    "collapsed": true
   },
   "outputs": [],
   "source": []
  }
 ],
 "metadata": {
  "kernelspec": {
   "display_name": "Python 3",
   "language": "python",
   "name": "python3"
  },
  "language_info": {
   "codemirror_mode": {
    "name": "ipython",
    "version": 3
   },
   "file_extension": ".py",
   "mimetype": "text/x-python",
   "name": "python",
   "nbconvert_exporter": "python",
   "pygments_lexer": "ipython3",
   "version": "3.5.3"
  }
 },
 "nbformat": 4,
 "nbformat_minor": 2
}
