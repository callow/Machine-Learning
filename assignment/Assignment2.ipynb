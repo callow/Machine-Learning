{
 "cells": [
  {
   "cell_type": "code",
   "execution_count": 48,
   "metadata": {
    "collapsed": false
   },
   "outputs": [
    {
     "name": "stdout",
     "output_type": "stream",
     "text": [
      "0.985\n"
     ]
    }
   ],
   "source": [
    "from sklearn import datasets\n",
    "import matplotlib\n",
    "import matplotlib.pyplot as plt\n",
    "import matplotlib.cm as cm\n",
    "from sklearn import svm \n",
    "%matplotlib inline\n",
    "\n",
    "digits = datasets.load_digits() #load hand-script set\n",
    "\n",
    "# train model\n",
    "clf = svm.SVC(gamma=0.001, C=100.)\n",
    "\n",
    "x_tarin = digits.data[0:1000]\n",
    "y_tarin = digits.target[0:1000]\n",
    "\n",
    "x_test = digits.data[1000:1200]\n",
    "y_test = digits.target[1000:1200]\n",
    "\n",
    "clf.fit(x_tarin,y_tarin)\n",
    "\n",
    "# predict \n",
    "y_test_predict = clf.predict(x_test[0:200])"
   ]
  },
  {
   "cell_type": "code",
   "execution_count": 70,
   "metadata": {
    "collapsed": false
   },
   "outputs": [
    {
     "name": "stdout",
     "output_type": "stream",
     "text": [
      "95\n",
      "118\n",
      "178\n",
      "0.985\n"
     ]
    }
   ],
   "source": [
    "# count non-matches\n",
    "counter = int(0);\n",
    "for index in range(len(y_test_predict)):\n",
    "   if y_test_predict[index] != y_test[index]:\n",
    "    print(index)\n",
    "    counter += 1\n",
    "    \n",
    "# print accuracy rate      \n",
    "print(int(1)- counter/len(y_test_predict))"
   ]
  },
  {
   "cell_type": "code",
   "execution_count": 69,
   "metadata": {
    "collapsed": false
   },
   "outputs": [],
   "source": [
    "# draw\n",
    "plt.imshow(x_test[95].reshape(8,8), cmap=cm.binary)\n",
    "#plt.imshow(x_test[118].reshape(8,8), cmap=cm.binary)\n",
    "#plt.imshow(x_test[178].reshape(8,8), cmap=cm.binary)\n",
    "plt.show()"
   ]
  },
  {
   "cell_type": "code",
   "execution_count": null,
   "metadata": {
    "collapsed": true
   },
   "outputs": [],
   "source": []
  }
 ],
 "metadata": {
  "kernelspec": {
   "display_name": "Python [Root]",
   "language": "python",
   "name": "Python [Root]"
  },
  "language_info": {
   "codemirror_mode": {
    "name": "ipython",
    "version": 3
   },
   "file_extension": ".py",
   "mimetype": "text/x-python",
   "name": "python",
   "nbconvert_exporter": "python",
   "pygments_lexer": "ipython3",
   "version": "3.5.2"
  }
 },
 "nbformat": 4,
 "nbformat_minor": 0
}
