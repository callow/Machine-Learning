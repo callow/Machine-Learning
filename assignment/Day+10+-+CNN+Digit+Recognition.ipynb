{
 "cells": [
  {
   "cell_type": "markdown",
   "metadata": {},
   "source": [
    "# 1. Import Data"
   ]
  },
  {
   "cell_type": "code",
   "execution_count": 1,
   "metadata": {},
   "outputs": [
    {
     "name": "stderr",
     "output_type": "stream",
     "text": [
      "Using TensorFlow backend.\n"
     ]
    },
    {
     "name": "stdout",
     "output_type": "stream",
     "text": [
      "(33600, 784)\n"
     ]
    }
   ],
   "source": [
    "# 导入想换类库\n",
    "import keras\n",
    "import pandas as pd\n",
    "from keras import backend as K\n",
    "from keras.models import Sequential\n",
    "from keras.layers import Dense, Dropout,Flatten\n",
    "from keras.layers import Conv2D, MaxPooling2D\n",
    "from sklearn.model_selection import train_test_split\n",
    "\n",
    "# Import Data\n",
    "dataset = pd.read_csv(\"train.csv\")\n",
    "target = dataset.iloc[:,0].values.ravel()\n",
    "train = dataset.iloc[:,1:].values\n",
    "test = pd.read_csv(\"test.csv\").values.reshape(-1,28,28,1)\n",
    "\n",
    "data_x = train # 训练特征\n",
    "data_y = target # 训练目标\n",
    "\n",
    "\n",
    "x_train, x_test, y_train, y_test = train_test_split(data_x, data_y, test_size=0.2, random_state=42) # 分割数据\n",
    "print (x_train.shape);"
   ]
  },
  {
   "cell_type": "markdown",
   "metadata": {},
   "source": [
    "# 2. Reshape Data"
   ]
  },
  {
   "cell_type": "code",
   "execution_count": 2,
   "metadata": {},
   "outputs": [
    {
     "name": "stdout",
     "output_type": "stream",
     "text": [
      "(28, 28, 1)\n"
     ]
    }
   ],
   "source": [
    "num_classes = 10\n",
    "\n",
    "# input image dimensions\n",
    "img_rows, img_cols = 28, 28\n",
    "\n",
    "if K.image_data_format() == 'channels_first':\n",
    "    x_train = x_train.reshape(x_train.shape[0],1,img_rows,img_cols)\n",
    "    x_test = x_test.reshape(x_test.shape[0],1,img_rows,img_cols)\n",
    "    input_shape = (1,img_rows,img_cols) # 1 就是通道数， 3 就是RGB， 1 = 黑白的/灰度图\n",
    "    print (input_shape)\n",
    "else:\n",
    "    x_train = x_train.reshape(x_train.shape[0],img_rows,img_cols,1)\n",
    "    x_test = x_test.reshape(x_test.shape[0],img_rows,img_cols,1)\n",
    "    input_shape = (img_rows,img_cols,1)\n",
    "    print (input_shape)"
   ]
  },
  {
   "cell_type": "markdown",
   "metadata": {},
   "source": [
    "# 3. transfer the integer into 0~1 decimal numbers"
   ]
  },
  {
   "cell_type": "code",
   "execution_count": 3,
   "metadata": {},
   "outputs": [
    {
     "name": "stdout",
     "output_type": "stream",
     "text": [
      "x_train shape: (33600, 28, 28, 1)\n",
      "33600 train samples\n",
      "8400 test samples\n"
     ]
    }
   ],
   "source": [
    "# 0~1 float\n",
    "\n",
    "x_train = x_train.astype(\"float32\")\n",
    "x_test  = x_test.astype(\"float32\")\n",
    "x_train /= 255\n",
    "x_test  /=255 \n",
    "\n",
    "print('x_train shape:', x_train.shape)\n",
    "print(x_train.shape[0], 'train samples')\n",
    "print(x_test.shape[0], 'test samples')"
   ]
  },
  {
   "cell_type": "markdown",
   "metadata": {},
   "source": [
    "# 4. shrink the data to fit the model"
   ]
  },
  {
   "cell_type": "code",
   "execution_count": 4,
   "metadata": {
    "collapsed": true
   },
   "outputs": [],
   "source": [
    "y_train = keras.utils.to_categorical(y_train,num_classes) # one-hot vector , 因为softmax要用\n",
    "y_test = keras.utils.to_categorical(y_test,num_classes)\n",
    "\n",
    "model =Sequential()\n",
    "model.add(Conv2D(32, kernel_size=(3,3), activation='relu',input_shape=input_shape)) #32C3\n",
    "          \n",
    "model.add(Conv2D(64, kernel_size=(3,3), activation='relu')) #64C3\n",
    "\n",
    "model.add(MaxPooling2D(pool_size=(2,2))) #MP2\n",
    "model.add(Dropout(0.25))\n",
    "\n",
    "model.add(Flatten())\n",
    "model.add(Dense(128,activation='relu')) # Dense前都要接Flatten , 6C5-MP2-16C5-MP2-120C1    (FLATTEN)   -84N-10N\n",
    "\n",
    "model.add(Dropout(0.5))\n",
    "model.add(Dense(num_classes,activation='softmax'))\n",
    "\n",
    "model.compile(loss=keras.losses.categorical_crossentropy,\n",
    "              optimizer=keras.optimizers.Adadelta(),\n",
    "              metrics=['accuracy'])"
   ]
  },
  {
   "cell_type": "markdown",
   "metadata": {},
   "source": [
    "# 5. Train the model"
   ]
  },
  {
   "cell_type": "code",
   "execution_count": 5,
   "metadata": {},
   "outputs": [
    {
     "name": "stdout",
     "output_type": "stream",
     "text": [
      "Train on 33600 samples, validate on 8400 samples\n",
      "Epoch 1/12\n",
      "33600/33600 [==============================] - 173s - loss: 0.5609 - acc: 0.8267 - val_loss: 0.1692 - val_acc: 0.9489\n",
      "Epoch 2/12\n",
      "33600/33600 [==============================] - 196s - loss: 0.1767 - acc: 0.9452 - val_loss: 0.0940 - val_acc: 0.9727\n",
      "Epoch 3/12\n",
      "33600/33600 [==============================] - 189s - loss: 0.1178 - acc: 0.9644 - val_loss: 0.0727 - val_acc: 0.9774\n",
      "Epoch 4/12\n",
      "33600/33600 [==============================] - 209s - loss: 0.0954 - acc: 0.9720 - val_loss: 0.0605 - val_acc: 0.9806\n",
      "Epoch 5/12\n",
      "33600/33600 [==============================] - 198s - loss: 0.0802 - acc: 0.9760 - val_loss: 0.0526 - val_acc: 0.9850\n",
      "Epoch 6/12\n",
      "33600/33600 [==============================] - 178s - loss: 0.0722 - acc: 0.9781 - val_loss: 0.0540 - val_acc: 0.9825\n",
      "Epoch 7/12\n",
      "33600/33600 [==============================] - 198s - loss: 0.0641 - acc: 0.9809 - val_loss: 0.0460 - val_acc: 0.9860\n",
      "Epoch 8/12\n",
      "33600/33600 [==============================] - 186s - loss: 0.0564 - acc: 0.9830 - val_loss: 0.0429 - val_acc: 0.9868\n",
      "Epoch 9/12\n",
      "33600/33600 [==============================] - 208s - loss: 0.0523 - acc: 0.9838 - val_loss: 0.0434 - val_acc: 0.9868\n",
      "Epoch 10/12\n",
      "33600/33600 [==============================] - 191s - loss: 0.0502 - acc: 0.9844 - val_loss: 0.0422 - val_acc: 0.9867\n",
      "Epoch 11/12\n",
      "33600/33600 [==============================] - 203s - loss: 0.0473 - acc: 0.9853 - val_loss: 0.0395 - val_acc: 0.9875\n",
      "Epoch 12/12\n",
      "33600/33600 [==============================] - 207s - loss: 0.0411 - acc: 0.9875 - val_loss: 0.0375 - val_acc: 0.9882\n"
     ]
    }
   ],
   "source": [
    "history = model.fit(x_train, y_train, batch_size=200, epochs=12, verbose=1, validation_data=(x_test, y_test))\n",
    "score = model.evaluate(x_test, y_test, verbose=0)"
   ]
  },
  {
   "cell_type": "markdown",
   "metadata": {},
   "source": [
    "# 6. Draw a acc graph "
   ]
  },
  {
   "cell_type": "code",
   "execution_count": 6,
   "metadata": {},
   "outputs": [
    {
     "data": {
      "image/png": "[encoded data removed]",
      "text/plain": [
       "<matplotlib.figure.Figure at 0x1f48b86be48>"
      ]
     },
     "metadata": {},
     "output_type": "display_data"
    }
   ],
   "source": [
    "%matplotlib inline\n",
    "\n",
    "import matplotlib\n",
    "import matplotlib.pyplot as plt\n",
    "\n",
    "\n",
    "plt.xlabel('x')\n",
    "plt.ylabel('y')\n",
    "plt.title('acc graph')\n",
    "\n",
    "plt.plot(range(len(history.history['val_acc'])), history.history['val_acc'])\n",
    "\n",
    "plt.show()"
   ]
  },
  {
   "cell_type": "markdown",
   "metadata": {},
   "source": [
    "# 7. Predict"
   ]
  },
  {
   "cell_type": "code",
   "execution_count": 8,
   "metadata": {},
   "outputs": [
    {
     "name": "stdout",
     "output_type": "stream",
     "text": [
      "28000/28000 [==============================] - 55s    \n"
     ]
    }
   ],
   "source": [
    "import numpy as np\n",
    "y_pred = model.predict_classes(test)\n",
    "\n",
    "np.savetxt('CNN_6.csv', np.c_[range(1,len(test)+1),y_pred], delimiter=',', \n",
    "           header = 'ImageId,Label', comments = '', fmt='%d')"
   ]
  },
  {
   "cell_type": "code",
   "execution_count": null,
   "metadata": {
    "collapsed": true
   },
   "outputs": [],
   "source": []
  }
 ],
 "metadata": {
  "kernelspec": {
   "display_name": "Python 3",
   "language": "python",
   "name": "python3"
  },
  "language_info": {
   "codemirror_mode": {
    "name": "ipython",
    "version": 3
   },
   "file_extension": ".py",
   "mimetype": "text/x-python",
   "name": "python",
   "nbconvert_exporter": "python",
   "pygments_lexer": "ipython3",
   "version": "3.5.3"
  }
 },
 "nbformat": 4,
 "nbformat_minor": 2
}
