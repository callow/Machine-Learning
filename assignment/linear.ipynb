{
 "cells": [
  {
   "cell_type": "code",
   "execution_count": 1,
   "metadata": {
    "collapsed": false
   },
   "outputs": [
    {
     "name": "stdout",
     "output_type": "stream",
     "text": [
      "Automatically created module for IPython interactive environment\n"
     ]
    }
   ],
   "source": [
    "#这一步是做什么的？\n",
    "print(__doc__)\n",
    "\n"
   ]
  },
  {
   "cell_type": "code",
   "execution_count": null,
   "metadata": {
    "collapsed": false
   },
   "outputs": [],
   "source": [
    "# 导入相关包\n",
    "import matplotlib.pyplot as plt\n",
    "import numpy as np\n",
    "from sklearn import datasets, linear_model\n",
    "\n",
    "# 加载糖尿病的数据集\n",
    "diabetes = datasets.load_diabetes()\n",
    "\n",
    "#print(diabetes)\n",
    "# 这里只用了一个feature\n",
    "diabetes_X = diabetes.data[:, np.newaxis, 2]\n",
    "\n",
    "#print(diabetes_X)\n",
    "# Split the data into training/testing sets\n",
    "diabetes_X_train = diabetes_X[:-20]\n",
    "diabetes_X_test = diabetes_X[-20:]\n",
    "\n",
    "# Split the targets into training/testing sets\n",
    "diabetes_y_train = diabetes.target[:-20]\n",
    "diabetes_y_test = diabetes.target[-20:]\n",
    "\n",
    "# 创建一个回归模型的object\n",
    "regr = linear_model.LinearRegression()\n",
    "\n",
    "# 用训练集创建模型+训练模型\n",
    "regr.fit(diabetes_X_train, diabetes_y_train)\n",
    "\n",
    "# 打印 coefficients / 权值 ，Y = ax +b  , a = 938.23...\n",
    "print('Coefficients: \\n', regr.coef_)\n",
    "# 打印 mean square error /均方误\n",
    "print(\"Mean squared error: %.2f\" % np.mean((regr.predict(diabetes_X_test) - diabetes_y_test) ** 2))\n",
    "# 打印评分函数，将返回一个小于1的得分: 1 is perfect prediction， 不过不知道这一步是做什么的？\n",
    "print('Variance score: %.2f' % regr.score(diabetes_X_test, diabetes_y_test))\n",
    "\n",
    "# 画出样本散点(x,y)\n",
    "plt.scatter(diabetes_X_test, diabetes_y_test,  color='black')\n",
    "# 推算并画出此线性方程直线 用蓝色标出\n",
    "plt.plot(diabetes_X_test, regr.predict(diabetes_X_test), color='blue',linewidth=3)\n",
    "         \n",
    "\n",
    "#这两步是做什么的？\n",
    "plt.xticks(())\n",
    "plt.yticks(())\n",
    "\n",
    "plt.show()\n"
   ]
  }
 ],
 "metadata": {
  "kernelspec": {
   "display_name": "Python [Root]",
   "language": "python",
   "name": "Python [Root]"
  },
  "language_info": {
   "codemirror_mode": {
    "name": "ipython",
    "version": 3
   },
   "file_extension": ".py",
   "mimetype": "text/x-python",
   "name": "python",
   "nbconvert_exporter": "python",
   "pygments_lexer": "ipython3",
   "version": "3.5.2"
  }
 },
 "nbformat": 4,
 "nbformat_minor": 0
}
