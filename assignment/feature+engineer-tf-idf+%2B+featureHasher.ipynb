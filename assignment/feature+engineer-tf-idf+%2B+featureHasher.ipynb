{
 "cells": [
  {
   "cell_type": "code",
   "execution_count": 19,
   "metadata": {},
   "outputs": [
    {
     "data": {
      "text/plain": [
       "matrix([[ 0.        ,  0.        ,  0.        ,  0.        ,  0.65249088,\n",
       "          0.        ,  0.38537163,  0.65249088,  0.        ,  0.        ,\n",
       "          0.        ],\n",
       "        [ 0.43238509,  0.        ,  0.        ,  0.43238509,  0.        ,\n",
       "          0.43238509,  0.2553736 ,  0.        ,  0.43238509,  0.43238509,\n",
       "          0.        ],\n",
       "        [ 0.        ,  0.54645401,  0.54645401,  0.        ,  0.        ,\n",
       "          0.        ,  0.32274454,  0.        ,  0.        ,  0.        ,\n",
       "          0.54645401]])"
      ]
     },
     "execution_count": 19,
     "metadata": {},
     "output_type": "execute_result"
    }
   ],
   "source": [
    "from sklearn.feature_extraction.text import TfidfTransformer\n",
    "from sklearn.feature_extraction.text import CountVectorizer\n",
    "\n",
    "str_train = [\n",
    "    'god is love',\n",
    "    'OpenGL on he CPU is fast',\n",
    "    'Doctor David is PHD'\n",
    "]\n",
    "\n",
    "count_vect = CountVectorizer() # 基于bag of words\n",
    "x_train_counts = count_vect.fit_transform(str_train)\n",
    "\n",
    "tf_transformer = TfidfTransformer(use_idf = True).fit(x_train_counts)\n",
    "x_train_tf = tf_transformer.transform(x_train_counts) # 转换成TF特征\n",
    "\n",
    "x_train_tf.todense() # 查看转换成TF特征的样子"
   ]
  },
  {
   "cell_type": "code",
   "execution_count": 15,
   "metadata": {},
   "outputs": [
    {
     "data": {
      "text/plain": [
       "(3, 11)"
      ]
     },
     "execution_count": 15,
     "metadata": {},
     "output_type": "execute_result"
    }
   ],
   "source": [
    "x_train_tf.shape # 查看维度，有三个句子 = 三个样本，有多少个不同的结果"
   ]
  },
  {
   "cell_type": "code",
   "execution_count": 18,
   "metadata": {},
   "outputs": [
    {
     "data": {
      "text/plain": [
       "{'cpu': 0,\n",
       " 'david': 1,\n",
       " 'doctor': 2,\n",
       " 'fast': 3,\n",
       " 'god': 4,\n",
       " 'he': 5,\n",
       " 'is': 6,\n",
       " 'love': 7,\n",
       " 'on': 8,\n",
       " 'opengl': 9,\n",
       " 'phd': 10}"
      ]
     },
     "execution_count": 18,
     "metadata": {},
     "output_type": "execute_result"
    }
   ],
   "source": [
    "count_vect.vocabulary_ # 查看出现次数情况"
   ]
  },
  {
   "cell_type": "code",
   "execution_count": 36,
   "metadata": {},
   "outputs": [
    {
     "name": "stderr",
     "output_type": "stream",
     "text": [
      "C:\\Anaconda3\\lib\\site-packages\\sklearn\\feature_extraction\\hashing.py:94: DeprecationWarning: the option non_negative=True has been deprecated in 0.19 and will be removed in version 0.21.\n",
      "  \" in version 0.21.\", DeprecationWarning)\n"
     ]
    },
    {
     "data": {
      "text/plain": [
       "array([[ 0.,  0.,  0.,  0.,  0.,  0.,  0.,  1.,  0.,  0.],\n",
       "       [ 0.,  1.,  0.,  0.,  0.,  0.,  0.,  0.,  0.,  3.],\n",
       "       [ 0.,  0.,  0.,  0.,  1.,  0.,  1.,  1.,  0.,  1.]])"
      ]
     },
     "execution_count": 36,
     "metadata": {},
     "output_type": "execute_result"
    }
   ],
   "source": [
    "#Feature hash\n",
    "from sklearn.feature_extraction import FeatureHasher\n",
    "\n",
    "h = FeatureHasher(n_features=10, non_negative=True)\n",
    "\n",
    "D=[]\n",
    "for s in str_train:\n",
    "    tmp = {}\n",
    "    for w in s.split(\" \"):\n",
    "        if (w not in tmp):\n",
    "            tmp[w] = 0\n",
    "        tmp[w] = tmp[w] + 1\n",
    "    D.append(tmp)\n",
    "f = h.transform(D)\n",
    "f.toarray()"
   ]
  },
  {
   "cell_type": "code",
   "execution_count": 32,
   "metadata": {},
   "outputs": [
    {
     "name": "stdout",
     "output_type": "stream",
     "text": [
      "[{'god': 1, 'is': 2, 'love': 3}, {'OpenGL': 1, 'on': 2, 'he': 3, 'CPU': 4, 'is': 5, 'fast': 6}, {'Doctor': 1, 'David': 2, 'is': 3, 'PHD': 4}]\n"
     ]
    }
   ],
   "source": [
    "print(D)"
   ]
  },
  {
   "cell_type": "code",
   "execution_count": null,
   "metadata": {
    "collapsed": true
   },
   "outputs": [],
   "source": []
  }
 ],
 "metadata": {
  "kernelspec": {
   "display_name": "Python 3",
   "language": "python",
   "name": "python3"
  },
  "language_info": {
   "codemirror_mode": {
    "name": "ipython",
    "version": 3
   },
   "file_extension": ".py",
   "mimetype": "text/x-python",
   "name": "python",
   "nbconvert_exporter": "python",
   "pygments_lexer": "ipython3",
   "version": "3.6.3"
  }
 },
 "nbformat": 4,
 "nbformat_minor": 2
}
