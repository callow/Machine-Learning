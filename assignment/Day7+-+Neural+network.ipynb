{
 "cells": [
  {
   "cell_type": "markdown",
   "metadata": {},
   "source": [
    "# 1. Kaggle"
   ]
  },
  {
   "cell_type": "code",
   "execution_count": 26,
   "metadata": {
    "collapsed": false
   },
   "outputs": [
    {
     "name": "stdout",
     "output_type": "stream",
     "text": [
      "0.111523809524\n",
      "Wall time: 1min\n"
     ]
    }
   ],
   "source": [
    "%%time \n",
    "\n",
    "import numpy as np\n",
    "import pandas as pd\n",
    "from sklearn import metrics\n",
    "from sklearn import datasets\n",
    "from sklearn.neural_network import MLPClassifier\n",
    "from sklearn.model_selection import KFold\n",
    "\n",
    "\n",
    "dataset = pd.read_csv(\"train.csv\")\n",
    "target = dataset[[0]].values.ravel()\n",
    "train = dataset.iloc[:,1:].values\n",
    "test = pd.read_csv(\"test.csv\").values\n",
    "\n",
    "# 测试集\n",
    "x_finaltest = test\n",
    "\n",
    "kf = KFold(n_splits = 10)\n",
    "\n",
    "total_score1 = []\n",
    "model1 = MLPClassifier(hidden_layer_sizes=(5,2), alpha=1e-4,solver='lbfgs',random_state=1,)\n",
    "\n",
    "for train_index ,test_index in kf.split(train):\n",
    "    x_train = train[train_index]\n",
    "    y_train = target[train_index]\n",
    "    x_test  = train[test_index]\n",
    "    y_test  = target[test_index]\n",
    "      \n",
    "    #train the model\n",
    "    model1.fit(x_train, y_train)\n",
    "       \n",
    "    # test model\n",
    "    y_predict1 = model1.predict(x_test)\n",
    "\n",
    "    total_score1.append(metrics.accuracy_score(y_predict1,y_test))\n",
    "\n",
    "#平均分\n",
    "print(np.mean(total_score1))\n",
    "\n",
    "y_pred1 = model1.predict(x_finaltest)\n",
    "\n",
    "np.savetxt('neural_4.csv', np.c_[range(1,len(x_finaltest)+1),y_pred1], delimiter=',', \n",
    "           header = 'ImageId,Label', comments = '', fmt='%d')\n"
   ]
  },
  {
   "cell_type": "markdown",
   "metadata": {},
   "source": [
    "# 2. MLP"
   ]
  },
  {
   "cell_type": "code",
   "execution_count": 29,
   "metadata": {
    "collapsed": false
   },
   "outputs": [
    {
     "data": {
      "text/plain": [
       "array([[1, 1],\n",
       "       [1, 1],\n",
       "       [0, 1],\n",
       "       [1, 1],\n",
       "       [0, 0],\n",
       "       [0, 0],\n",
       "       [0, 1],\n",
       "       [1, 1],\n",
       "       [1, 1],\n",
       "       [1, 1]])"
      ]
     },
     "execution_count": 29,
     "metadata": {},
     "output_type": "execute_result"
    }
   ],
   "source": [
    "                 \n",
    "x = [[0.1,0.7],[0.8,0.8],[1.0,0.3],[0.0,-0.3],[-0.5, -1.5],[ 1.2, 1.8],[ 1.6, 0.6], [0.8, 0.5], [0.2, 0.8], [-1.5, -1.3]]\n",
    "Y = [[1,1],[1,0],[0,1],[1,1],[0,0],[0,0],[0,0],[0,1],[1,1],[1,1]]\n",
    "z = [[0.3,0.5],[0.2,0.1],[1.0,0.3],[0.0,-0.4],[-0.2, -1.1],[ 1.3, 1.4],[ 1.1, 0.1], [0.2, 0.1], [0.1, 0.1], [-1.0, -1.0]]\n",
    "     \n",
    "model2 = MLPClassifier(solver='lbfgs', alpha=1e-5, hidden_layer_sizes=(5, 2), random_state=1)\n",
    "\n",
    "# train\n",
    "model2.fit(x,Y)\n",
    "#predict\n",
    "model2.predict(z)"
   ]
  },
  {
   "cell_type": "code",
   "execution_count": null,
   "metadata": {
    "collapsed": true
   },
   "outputs": [],
   "source": []
  }
 ],
 "metadata": {
  "kernelspec": {
   "display_name": "Python 3",
   "language": "python",
   "name": "python3"
  },
  "language_info": {
   "codemirror_mode": {
    "name": "ipython",
    "version": 3
   },
   "file_extension": ".py",
   "mimetype": "text/x-python",
   "name": "python",
   "nbconvert_exporter": "python",
   "pygments_lexer": "ipython3",
   "version": "3.6.0"
  }
 },
 "nbformat": 4,
 "nbformat_minor": 2
}
